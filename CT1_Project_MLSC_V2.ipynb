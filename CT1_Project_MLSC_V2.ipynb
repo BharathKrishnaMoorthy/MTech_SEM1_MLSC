{
 "cells": [
  {
   "cell_type": "markdown",
   "metadata": {
    "id": "Uufu_GEQwngi"
   },
   "source": [
    "<table align=\"left\" width=100%>\n",
    "    <tr>\n",
    "        <td width=\"20%\">\n",
    "            <img src=\"faculty.png\">\n",
    "        </td>\n",
    "        <td>\n",
    "            <div align=\"center\">\n",
    "                <font color=\"#21618C\" size=8px>\n",
    "                  <b> Assignment Questions </b>\n",
    "                </font>\n",
    "            </div>\n",
    "        </td>\n",
    "    </tr>\n",
    "</table>"
   ]
  },
  {
   "cell_type": "markdown",
   "metadata": {
    "id": "x9DV5tcewngs"
   },
   "source": [
    "## Problem Statement\n",
    "\n"
   ]
  },
  {
   "cell_type": "markdown",
   "metadata": {
    "id": "P86GRnoiwngt"
   },
   "source": [
    "### About the data set (Heart disease data)\n",
    "\n",
    "The dataset contains information about patients. The aim is to find whether or not a patient has cardiovascular disease based on the several factors from the patient profile. <br> Attribute information: \n",
    "\n",
    "**male:** Gender of patient: male(1) or female(0) \n",
    "\n",
    "**age:** Age of patient\n",
    "\n",
    "**education:** Education level of patient: 1 = Some High School; 2 = High School or GED; 3 = Some College or Vocational School; 4 = college\n",
    "\n",
    "**currentSmoker:** Whether the patient is a smoker now: Yes(1) or No(0)\n",
    "\n",
    "**cigsPerDay:** Average number of cigarettes smoked by patient per day\n",
    "\n",
    "**BPMeds:** Whether the patient is on blood pressure medications: Yes(1) or No(0)\n",
    "\n",
    "**prevalentStroke:** If the patient has a history of heart stroke: Yes(1) or No(0)\n",
    "\n",
    "**prevalentHyp:** If the patient has a history of hypertension: Yes(1) or No(0)\n",
    "\n",
    "**diabetes:**  If the patient has a diabetes: Yes(1) or No(0)\n",
    "\n",
    "**totChol:** Average cholesterol levels in mg/dL\n",
    "\n",
    "**sysBP:** Average systolic blood pressure of patient\n",
    "\n",
    "**diaBP:** Average diastolic blood pressure of patient\n",
    "\n",
    "**BMI:** BMI of patient\n",
    "\n",
    "**heartRate:** Avergae heartrate of patient\n",
    "\n",
    "**glucose:** Average blood glucose levels of patient\n",
    "\n",
    "**CVD:** Does the patient have cardiovascular disease: Yes(1) or No(0)"
   ]
  },
  {
   "cell_type": "markdown",
   "metadata": {
    "id": "rMWw40eDwngv"
   },
   "source": [
    "## Table of Content\n",
    "\n",
    "1. **[Import Libraries](#lib)**\n",
    "2. **[Data Preparation](#prep)**\n",
    "    - 2.1 - **[Read the Data](#read)**\n",
    "    - 2.2 - **[Check the Data Type](#dtype)**\n",
    "    - 2.3 - **[Remove Insignificant Variables](#drop)**\n",
    "    - 2.4 - **[Distribution of Variables](#dist)**\n",
    "    - 2.5 - **[Missing Value Treatment](#null)**\n",
    "    - 2.6 - **[Dummy Encode the Categorical Variables](#dummy)**\n",
    "    - 2.7 - **[Scale the Data](#scale)**\n",
    "    - 2.8 - **[Train-Test Split](#split)**\n",
    "3. **[Logistic Regression (Full Model)](#logit)**\n",
    "    - 3.1 - **[Identify the Best Cut-off Value](#cut_off)**\n",
    "        - 3.1.1 - **[Youden's Index](#youden)**"
   ]
  },
  {
   "cell_type": "markdown",
   "metadata": {
    "id": "TZmFMwBdwngx"
   },
   "source": [
    "<a id=\"lib\"></a>\n",
    "# 1. Import Libraries"
   ]
  },
  {
   "cell_type": "markdown",
   "metadata": {
    "id": "82AtWzmawngy"
   },
   "source": [
    "**Let us import the required libraries.**"
   ]
  },
  {
   "cell_type": "code",
   "execution_count": 623,
   "metadata": {
    "execution": {
     "iopub.execute_input": "2022-09-16T17:08:49.993324Z",
     "iopub.status.busy": "2022-09-16T17:08:49.992872Z",
     "iopub.status.idle": "2022-09-16T17:08:50.003783Z",
     "shell.execute_reply": "2022-09-16T17:08:50.002503Z",
     "shell.execute_reply.started": "2022-09-16T17:08:49.993286Z"
    },
    "id": "vsCg0G5rwngz"
   },
   "outputs": [],
   "source": [
    "# import 'Pandas' \n",
    "import pandas as pd \n",
    "\n",
    "# import 'Numpy' \n",
    "import numpy as np\n",
    "\n",
    "# import subpackage of Matplotlib\n",
    "import matplotlib.pyplot as plt\n",
    "from matplotlib.colors import ListedColormap\n",
    "\n",
    "# import 'Seaborn' \n",
    "import seaborn as sns\n",
    "\n",
    "# to suppress warnings \n",
    "from warnings import filterwarnings\n",
    "filterwarnings('ignore')\n",
    "\n",
    "# display all columns of the dataframe\n",
    "pd.options.display.max_columns = None\n",
    "\n",
    "# display all rows of the dataframe\n",
    "pd.options.display.max_rows = None\n",
    "\n",
    "# to display the float values upto 6 decimal places     \n",
    "pd.options.display.float_format = '{:.6f}'.format\n",
    "\n",
    "# import train-test split \n",
    "from sklearn.model_selection import train_test_split\n",
    "\n",
    "# import various functions from statsmodels\n",
    "import statsmodels\n",
    "import statsmodels.api as sm\n",
    "\n",
    "from sklearn import preprocessing\n",
    "'exec(% matplotlib inline)'\n",
    "\n",
    "# import StandardScaler to perform scaling\n",
    "from sklearn.preprocessing import StandardScaler\n",
    "\n",
    "# import various functions from sklearn \n",
    "from sklearn import metrics\n",
    "from sklearn.linear_model import LogisticRegression\n",
    "from sklearn.metrics import classification_report\n",
    "from sklearn.metrics import cohen_kappa_score\n",
    "from sklearn.metrics import confusion_matrix\n",
    "from sklearn.metrics import roc_curve\n",
    "from sklearn.metrics import accuracy_score\n",
    "\n",
    "# import function to perform feature selection\n",
    "from sklearn.feature_selection import RFE"
   ]
  },
  {
   "cell_type": "markdown",
   "metadata": {
    "id": "jDq575XSwng1"
   },
   "source": [
    "<a id=\"prep\"></a>\n",
    "# 2. Data Preparation"
   ]
  },
  {
   "cell_type": "markdown",
   "metadata": {
    "id": "mRPQGKs1wng3"
   },
   "source": [
    "<a id=\"read\"></a>\n",
    "## 2.1 Read the Data"
   ]
  },
  {
   "cell_type": "markdown",
   "metadata": {
    "id": "6fVm08r1wng4"
   },
   "source": [
    "#### Read the dataset and print the first ten observations."
   ]
  },
  {
   "cell_type": "code",
   "execution_count": 624,
   "metadata": {
    "execution": {
     "iopub.execute_input": "2022-09-16T17:08:54.426367Z",
     "iopub.status.busy": "2022-09-16T17:08:54.425940Z",
     "iopub.status.idle": "2022-09-16T17:08:54.453854Z",
     "shell.execute_reply": "2022-09-16T17:08:54.452421Z",
     "shell.execute_reply.started": "2022-09-16T17:08:54.426329Z"
    },
    "id": "6PqkOAy0wng6"
   },
   "outputs": [
    {
     "data": {
      "text/html": [
       "<div>\n",
       "<style scoped>\n",
       "    .dataframe tbody tr th:only-of-type {\n",
       "        vertical-align: middle;\n",
       "    }\n",
       "\n",
       "    .dataframe tbody tr th {\n",
       "        vertical-align: top;\n",
       "    }\n",
       "\n",
       "    .dataframe thead th {\n",
       "        text-align: right;\n",
       "    }\n",
       "</style>\n",
       "<table border=\"1\" class=\"dataframe\">\n",
       "  <thead>\n",
       "    <tr style=\"text-align: right;\">\n",
       "      <th></th>\n",
       "      <th>male</th>\n",
       "      <th>age</th>\n",
       "      <th>education</th>\n",
       "      <th>currentSmoker</th>\n",
       "      <th>cigsPerDay</th>\n",
       "      <th>BPMeds</th>\n",
       "      <th>prevalentStroke</th>\n",
       "      <th>prevalentHyp</th>\n",
       "      <th>diabetes</th>\n",
       "      <th>totChol</th>\n",
       "      <th>sysBP</th>\n",
       "      <th>diaBP</th>\n",
       "      <th>BMI</th>\n",
       "      <th>heartRate</th>\n",
       "      <th>glucose</th>\n",
       "      <th>CVD</th>\n",
       "    </tr>\n",
       "  </thead>\n",
       "  <tbody>\n",
       "    <tr>\n",
       "      <th>0</th>\n",
       "      <td>1</td>\n",
       "      <td>39</td>\n",
       "      <td>4.000000</td>\n",
       "      <td>0</td>\n",
       "      <td>0.000000</td>\n",
       "      <td>0.000000</td>\n",
       "      <td>0</td>\n",
       "      <td>0</td>\n",
       "      <td>0</td>\n",
       "      <td>195.000000</td>\n",
       "      <td>106.000000</td>\n",
       "      <td>70.000000</td>\n",
       "      <td>26.970000</td>\n",
       "      <td>80.000000</td>\n",
       "      <td>77.000000</td>\n",
       "      <td>0</td>\n",
       "    </tr>\n",
       "    <tr>\n",
       "      <th>1</th>\n",
       "      <td>0</td>\n",
       "      <td>46</td>\n",
       "      <td>2.000000</td>\n",
       "      <td>0</td>\n",
       "      <td>0.000000</td>\n",
       "      <td>0.000000</td>\n",
       "      <td>0</td>\n",
       "      <td>0</td>\n",
       "      <td>0</td>\n",
       "      <td>250.000000</td>\n",
       "      <td>121.000000</td>\n",
       "      <td>81.000000</td>\n",
       "      <td>28.730000</td>\n",
       "      <td>95.000000</td>\n",
       "      <td>76.000000</td>\n",
       "      <td>0</td>\n",
       "    </tr>\n",
       "    <tr>\n",
       "      <th>2</th>\n",
       "      <td>1</td>\n",
       "      <td>48</td>\n",
       "      <td>1.000000</td>\n",
       "      <td>1</td>\n",
       "      <td>20.000000</td>\n",
       "      <td>0.000000</td>\n",
       "      <td>0</td>\n",
       "      <td>0</td>\n",
       "      <td>0</td>\n",
       "      <td>245.000000</td>\n",
       "      <td>127.500000</td>\n",
       "      <td>80.000000</td>\n",
       "      <td>25.340000</td>\n",
       "      <td>75.000000</td>\n",
       "      <td>70.000000</td>\n",
       "      <td>0</td>\n",
       "    </tr>\n",
       "    <tr>\n",
       "      <th>3</th>\n",
       "      <td>0</td>\n",
       "      <td>61</td>\n",
       "      <td>3.000000</td>\n",
       "      <td>1</td>\n",
       "      <td>30.000000</td>\n",
       "      <td>0.000000</td>\n",
       "      <td>0</td>\n",
       "      <td>1</td>\n",
       "      <td>0</td>\n",
       "      <td>225.000000</td>\n",
       "      <td>150.000000</td>\n",
       "      <td>95.000000</td>\n",
       "      <td>28.580000</td>\n",
       "      <td>65.000000</td>\n",
       "      <td>103.000000</td>\n",
       "      <td>1</td>\n",
       "    </tr>\n",
       "    <tr>\n",
       "      <th>4</th>\n",
       "      <td>0</td>\n",
       "      <td>46</td>\n",
       "      <td>3.000000</td>\n",
       "      <td>1</td>\n",
       "      <td>23.000000</td>\n",
       "      <td>0.000000</td>\n",
       "      <td>0</td>\n",
       "      <td>0</td>\n",
       "      <td>0</td>\n",
       "      <td>285.000000</td>\n",
       "      <td>130.000000</td>\n",
       "      <td>84.000000</td>\n",
       "      <td>23.100000</td>\n",
       "      <td>85.000000</td>\n",
       "      <td>85.000000</td>\n",
       "      <td>0</td>\n",
       "    </tr>\n",
       "    <tr>\n",
       "      <th>5</th>\n",
       "      <td>0</td>\n",
       "      <td>43</td>\n",
       "      <td>2.000000</td>\n",
       "      <td>0</td>\n",
       "      <td>0.000000</td>\n",
       "      <td>0.000000</td>\n",
       "      <td>0</td>\n",
       "      <td>1</td>\n",
       "      <td>0</td>\n",
       "      <td>228.000000</td>\n",
       "      <td>180.000000</td>\n",
       "      <td>110.000000</td>\n",
       "      <td>30.300000</td>\n",
       "      <td>77.000000</td>\n",
       "      <td>99.000000</td>\n",
       "      <td>0</td>\n",
       "    </tr>\n",
       "    <tr>\n",
       "      <th>6</th>\n",
       "      <td>0</td>\n",
       "      <td>63</td>\n",
       "      <td>1.000000</td>\n",
       "      <td>0</td>\n",
       "      <td>0.000000</td>\n",
       "      <td>0.000000</td>\n",
       "      <td>0</td>\n",
       "      <td>0</td>\n",
       "      <td>0</td>\n",
       "      <td>205.000000</td>\n",
       "      <td>138.000000</td>\n",
       "      <td>71.000000</td>\n",
       "      <td>33.110000</td>\n",
       "      <td>60.000000</td>\n",
       "      <td>85.000000</td>\n",
       "      <td>1</td>\n",
       "    </tr>\n",
       "    <tr>\n",
       "      <th>7</th>\n",
       "      <td>0</td>\n",
       "      <td>45</td>\n",
       "      <td>2.000000</td>\n",
       "      <td>1</td>\n",
       "      <td>20.000000</td>\n",
       "      <td>0.000000</td>\n",
       "      <td>0</td>\n",
       "      <td>0</td>\n",
       "      <td>0</td>\n",
       "      <td>313.000000</td>\n",
       "      <td>100.000000</td>\n",
       "      <td>71.000000</td>\n",
       "      <td>21.680000</td>\n",
       "      <td>79.000000</td>\n",
       "      <td>78.000000</td>\n",
       "      <td>0</td>\n",
       "    </tr>\n",
       "    <tr>\n",
       "      <th>8</th>\n",
       "      <td>1</td>\n",
       "      <td>52</td>\n",
       "      <td>1.000000</td>\n",
       "      <td>0</td>\n",
       "      <td>0.000000</td>\n",
       "      <td>0.000000</td>\n",
       "      <td>0</td>\n",
       "      <td>1</td>\n",
       "      <td>0</td>\n",
       "      <td>260.000000</td>\n",
       "      <td>141.500000</td>\n",
       "      <td>89.000000</td>\n",
       "      <td>26.360000</td>\n",
       "      <td>76.000000</td>\n",
       "      <td>79.000000</td>\n",
       "      <td>0</td>\n",
       "    </tr>\n",
       "    <tr>\n",
       "      <th>9</th>\n",
       "      <td>1</td>\n",
       "      <td>43</td>\n",
       "      <td>1.000000</td>\n",
       "      <td>1</td>\n",
       "      <td>30.000000</td>\n",
       "      <td>0.000000</td>\n",
       "      <td>0</td>\n",
       "      <td>1</td>\n",
       "      <td>0</td>\n",
       "      <td>225.000000</td>\n",
       "      <td>162.000000</td>\n",
       "      <td>107.000000</td>\n",
       "      <td>23.610000</td>\n",
       "      <td>93.000000</td>\n",
       "      <td>88.000000</td>\n",
       "      <td>0</td>\n",
       "    </tr>\n",
       "  </tbody>\n",
       "</table>\n",
       "</div>"
      ],
      "text/plain": [
       "   male  age  education  currentSmoker  cigsPerDay   BPMeds  prevalentStroke  \\\n",
       "0     1   39   4.000000              0    0.000000 0.000000                0   \n",
       "1     0   46   2.000000              0    0.000000 0.000000                0   \n",
       "2     1   48   1.000000              1   20.000000 0.000000                0   \n",
       "3     0   61   3.000000              1   30.000000 0.000000                0   \n",
       "4     0   46   3.000000              1   23.000000 0.000000                0   \n",
       "5     0   43   2.000000              0    0.000000 0.000000                0   \n",
       "6     0   63   1.000000              0    0.000000 0.000000                0   \n",
       "7     0   45   2.000000              1   20.000000 0.000000                0   \n",
       "8     1   52   1.000000              0    0.000000 0.000000                0   \n",
       "9     1   43   1.000000              1   30.000000 0.000000                0   \n",
       "\n",
       "   prevalentHyp  diabetes    totChol      sysBP      diaBP       BMI  \\\n",
       "0             0         0 195.000000 106.000000  70.000000 26.970000   \n",
       "1             0         0 250.000000 121.000000  81.000000 28.730000   \n",
       "2             0         0 245.000000 127.500000  80.000000 25.340000   \n",
       "3             1         0 225.000000 150.000000  95.000000 28.580000   \n",
       "4             0         0 285.000000 130.000000  84.000000 23.100000   \n",
       "5             1         0 228.000000 180.000000 110.000000 30.300000   \n",
       "6             0         0 205.000000 138.000000  71.000000 33.110000   \n",
       "7             0         0 313.000000 100.000000  71.000000 21.680000   \n",
       "8             1         0 260.000000 141.500000  89.000000 26.360000   \n",
       "9             1         0 225.000000 162.000000 107.000000 23.610000   \n",
       "\n",
       "   heartRate    glucose  CVD  \n",
       "0  80.000000  77.000000    0  \n",
       "1  95.000000  76.000000    0  \n",
       "2  75.000000  70.000000    0  \n",
       "3  65.000000 103.000000    1  \n",
       "4  85.000000  85.000000    0  \n",
       "5  77.000000  99.000000    0  \n",
       "6  60.000000  85.000000    1  \n",
       "7  79.000000  78.000000    0  \n",
       "8  76.000000  79.000000    0  \n",
       "9  93.000000  88.000000    0  "
      ]
     },
     "execution_count": 624,
     "metadata": {},
     "output_type": "execute_result"
    }
   ],
   "source": [
    "# load the csv file\n",
    "# store the data in 'df_heart'\n",
    "df_heart = pd.read_csv('Heart_disease.csv')\n",
    "\n",
    "# display first five observations using head()\n",
    "df_heart.head(10)"
   ]
  },
  {
   "cell_type": "markdown",
   "metadata": {
    "id": "cP4kuOu4wng6"
   },
   "source": [
    "**Let us now see the number of variables and observations in the data.**"
   ]
  },
  {
   "cell_type": "code",
   "execution_count": 625,
   "metadata": {
    "execution": {
     "iopub.execute_input": "2022-09-16T17:08:57.178323Z",
     "iopub.status.busy": "2022-09-16T17:08:57.177049Z",
     "iopub.status.idle": "2022-09-16T17:08:57.185664Z",
     "shell.execute_reply": "2022-09-16T17:08:57.184269Z",
     "shell.execute_reply.started": "2022-09-16T17:08:57.178271Z"
    },
    "id": "4KIhycmLwng7"
   },
   "outputs": [
    {
     "data": {
      "text/plain": [
       "(4240, 16)"
      ]
     },
     "execution_count": 625,
     "metadata": {},
     "output_type": "execute_result"
    }
   ],
   "source": [
    "# use 'shape' to check the dimension of data\n",
    "df_heart.shape"
   ]
  },
  {
   "cell_type": "code",
   "execution_count": 626,
   "metadata": {},
   "outputs": [
    {
     "data": {
      "text/plain": [
       "Index(['male', 'age', 'education', 'currentSmoker', 'cigsPerDay', 'BPMeds',\n",
       "       'prevalentStroke', 'prevalentHyp', 'diabetes', 'totChol', 'sysBP',\n",
       "       'diaBP', 'BMI', 'heartRate', 'glucose', 'CVD'],\n",
       "      dtype='object')"
      ]
     },
     "execution_count": 626,
     "metadata": {},
     "output_type": "execute_result"
    }
   ],
   "source": [
    "# use 'keys' to check the keys of data\n",
    "df_heart.keys()"
   ]
  },
  {
   "cell_type": "code",
   "execution_count": 627,
   "metadata": {},
   "outputs": [
    {
     "name": "stdout",
     "output_type": "stream",
     "text": [
      "<class 'pandas.core.frame.DataFrame'>\n",
      "RangeIndex: 4240 entries, 0 to 4239\n",
      "Data columns (total 16 columns):\n",
      "male               4240 non-null int64\n",
      "age                4240 non-null int64\n",
      "education          4135 non-null float64\n",
      "currentSmoker      4240 non-null int64\n",
      "cigsPerDay         4211 non-null float64\n",
      "BPMeds             4187 non-null float64\n",
      "prevalentStroke    4240 non-null int64\n",
      "prevalentHyp       4240 non-null int64\n",
      "diabetes           4240 non-null int64\n",
      "totChol            4190 non-null float64\n",
      "sysBP              4240 non-null float64\n",
      "diaBP              4240 non-null float64\n",
      "BMI                4221 non-null float64\n",
      "heartRate          4239 non-null float64\n",
      "glucose            3852 non-null float64\n",
      "CVD                4240 non-null int64\n",
      "dtypes: float64(9), int64(7)\n",
      "memory usage: 530.1 KB\n"
     ]
    }
   ],
   "source": [
    "# use 'info' to check the information of data\n",
    "df_heart.info()"
   ]
  },
  {
   "cell_type": "code",
   "execution_count": 628,
   "metadata": {},
   "outputs": [
    {
     "data": {
      "text/html": [
       "<div>\n",
       "<style scoped>\n",
       "    .dataframe tbody tr th:only-of-type {\n",
       "        vertical-align: middle;\n",
       "    }\n",
       "\n",
       "    .dataframe tbody tr th {\n",
       "        vertical-align: top;\n",
       "    }\n",
       "\n",
       "    .dataframe thead th {\n",
       "        text-align: right;\n",
       "    }\n",
       "</style>\n",
       "<table border=\"1\" class=\"dataframe\">\n",
       "  <thead>\n",
       "    <tr style=\"text-align: right;\">\n",
       "      <th></th>\n",
       "      <th>male</th>\n",
       "      <th>age</th>\n",
       "      <th>education</th>\n",
       "      <th>currentSmoker</th>\n",
       "      <th>cigsPerDay</th>\n",
       "      <th>BPMeds</th>\n",
       "      <th>prevalentStroke</th>\n",
       "      <th>prevalentHyp</th>\n",
       "      <th>diabetes</th>\n",
       "      <th>totChol</th>\n",
       "      <th>sysBP</th>\n",
       "      <th>diaBP</th>\n",
       "      <th>BMI</th>\n",
       "      <th>heartRate</th>\n",
       "      <th>glucose</th>\n",
       "      <th>CVD</th>\n",
       "    </tr>\n",
       "  </thead>\n",
       "  <tbody>\n",
       "    <tr>\n",
       "      <th>count</th>\n",
       "      <td>4240.000000</td>\n",
       "      <td>4240.000000</td>\n",
       "      <td>4135.000000</td>\n",
       "      <td>4240.000000</td>\n",
       "      <td>4211.000000</td>\n",
       "      <td>4187.000000</td>\n",
       "      <td>4240.000000</td>\n",
       "      <td>4240.000000</td>\n",
       "      <td>4240.000000</td>\n",
       "      <td>4190.000000</td>\n",
       "      <td>4240.000000</td>\n",
       "      <td>4240.000000</td>\n",
       "      <td>4221.000000</td>\n",
       "      <td>4239.000000</td>\n",
       "      <td>3852.000000</td>\n",
       "      <td>4240.000000</td>\n",
       "    </tr>\n",
       "    <tr>\n",
       "      <th>mean</th>\n",
       "      <td>0.429245</td>\n",
       "      <td>49.580189</td>\n",
       "      <td>1.979444</td>\n",
       "      <td>0.494104</td>\n",
       "      <td>9.005937</td>\n",
       "      <td>0.029615</td>\n",
       "      <td>0.005896</td>\n",
       "      <td>0.310613</td>\n",
       "      <td>0.025708</td>\n",
       "      <td>236.699523</td>\n",
       "      <td>132.354599</td>\n",
       "      <td>82.897759</td>\n",
       "      <td>25.800801</td>\n",
       "      <td>75.878981</td>\n",
       "      <td>81.963655</td>\n",
       "      <td>0.151887</td>\n",
       "    </tr>\n",
       "    <tr>\n",
       "      <th>std</th>\n",
       "      <td>0.495027</td>\n",
       "      <td>8.572942</td>\n",
       "      <td>1.019791</td>\n",
       "      <td>0.500024</td>\n",
       "      <td>11.922462</td>\n",
       "      <td>0.169544</td>\n",
       "      <td>0.076569</td>\n",
       "      <td>0.462799</td>\n",
       "      <td>0.158280</td>\n",
       "      <td>44.591284</td>\n",
       "      <td>22.033300</td>\n",
       "      <td>11.910394</td>\n",
       "      <td>4.079840</td>\n",
       "      <td>12.025348</td>\n",
       "      <td>23.954335</td>\n",
       "      <td>0.358953</td>\n",
       "    </tr>\n",
       "    <tr>\n",
       "      <th>min</th>\n",
       "      <td>0.000000</td>\n",
       "      <td>32.000000</td>\n",
       "      <td>1.000000</td>\n",
       "      <td>0.000000</td>\n",
       "      <td>0.000000</td>\n",
       "      <td>0.000000</td>\n",
       "      <td>0.000000</td>\n",
       "      <td>0.000000</td>\n",
       "      <td>0.000000</td>\n",
       "      <td>107.000000</td>\n",
       "      <td>83.500000</td>\n",
       "      <td>48.000000</td>\n",
       "      <td>15.540000</td>\n",
       "      <td>44.000000</td>\n",
       "      <td>40.000000</td>\n",
       "      <td>0.000000</td>\n",
       "    </tr>\n",
       "    <tr>\n",
       "      <th>25%</th>\n",
       "      <td>0.000000</td>\n",
       "      <td>42.000000</td>\n",
       "      <td>1.000000</td>\n",
       "      <td>0.000000</td>\n",
       "      <td>0.000000</td>\n",
       "      <td>0.000000</td>\n",
       "      <td>0.000000</td>\n",
       "      <td>0.000000</td>\n",
       "      <td>0.000000</td>\n",
       "      <td>206.000000</td>\n",
       "      <td>117.000000</td>\n",
       "      <td>75.000000</td>\n",
       "      <td>23.070000</td>\n",
       "      <td>68.000000</td>\n",
       "      <td>71.000000</td>\n",
       "      <td>0.000000</td>\n",
       "    </tr>\n",
       "    <tr>\n",
       "      <th>50%</th>\n",
       "      <td>0.000000</td>\n",
       "      <td>49.000000</td>\n",
       "      <td>2.000000</td>\n",
       "      <td>0.000000</td>\n",
       "      <td>0.000000</td>\n",
       "      <td>0.000000</td>\n",
       "      <td>0.000000</td>\n",
       "      <td>0.000000</td>\n",
       "      <td>0.000000</td>\n",
       "      <td>234.000000</td>\n",
       "      <td>128.000000</td>\n",
       "      <td>82.000000</td>\n",
       "      <td>25.400000</td>\n",
       "      <td>75.000000</td>\n",
       "      <td>78.000000</td>\n",
       "      <td>0.000000</td>\n",
       "    </tr>\n",
       "    <tr>\n",
       "      <th>75%</th>\n",
       "      <td>1.000000</td>\n",
       "      <td>56.000000</td>\n",
       "      <td>3.000000</td>\n",
       "      <td>1.000000</td>\n",
       "      <td>20.000000</td>\n",
       "      <td>0.000000</td>\n",
       "      <td>0.000000</td>\n",
       "      <td>1.000000</td>\n",
       "      <td>0.000000</td>\n",
       "      <td>263.000000</td>\n",
       "      <td>144.000000</td>\n",
       "      <td>90.000000</td>\n",
       "      <td>28.040000</td>\n",
       "      <td>83.000000</td>\n",
       "      <td>87.000000</td>\n",
       "      <td>0.000000</td>\n",
       "    </tr>\n",
       "    <tr>\n",
       "      <th>max</th>\n",
       "      <td>1.000000</td>\n",
       "      <td>70.000000</td>\n",
       "      <td>4.000000</td>\n",
       "      <td>1.000000</td>\n",
       "      <td>70.000000</td>\n",
       "      <td>1.000000</td>\n",
       "      <td>1.000000</td>\n",
       "      <td>1.000000</td>\n",
       "      <td>1.000000</td>\n",
       "      <td>696.000000</td>\n",
       "      <td>295.000000</td>\n",
       "      <td>142.500000</td>\n",
       "      <td>56.800000</td>\n",
       "      <td>143.000000</td>\n",
       "      <td>394.000000</td>\n",
       "      <td>1.000000</td>\n",
       "    </tr>\n",
       "  </tbody>\n",
       "</table>\n",
       "</div>"
      ],
      "text/plain": [
       "             male         age   education  currentSmoker  cigsPerDay  \\\n",
       "count 4240.000000 4240.000000 4135.000000    4240.000000 4211.000000   \n",
       "mean     0.429245   49.580189    1.979444       0.494104    9.005937   \n",
       "std      0.495027    8.572942    1.019791       0.500024   11.922462   \n",
       "min      0.000000   32.000000    1.000000       0.000000    0.000000   \n",
       "25%      0.000000   42.000000    1.000000       0.000000    0.000000   \n",
       "50%      0.000000   49.000000    2.000000       0.000000    0.000000   \n",
       "75%      1.000000   56.000000    3.000000       1.000000   20.000000   \n",
       "max      1.000000   70.000000    4.000000       1.000000   70.000000   \n",
       "\n",
       "           BPMeds  prevalentStroke  prevalentHyp    diabetes     totChol  \\\n",
       "count 4187.000000      4240.000000   4240.000000 4240.000000 4190.000000   \n",
       "mean     0.029615         0.005896      0.310613    0.025708  236.699523   \n",
       "std      0.169544         0.076569      0.462799    0.158280   44.591284   \n",
       "min      0.000000         0.000000      0.000000    0.000000  107.000000   \n",
       "25%      0.000000         0.000000      0.000000    0.000000  206.000000   \n",
       "50%      0.000000         0.000000      0.000000    0.000000  234.000000   \n",
       "75%      0.000000         0.000000      1.000000    0.000000  263.000000   \n",
       "max      1.000000         1.000000      1.000000    1.000000  696.000000   \n",
       "\n",
       "            sysBP       diaBP         BMI   heartRate     glucose         CVD  \n",
       "count 4240.000000 4240.000000 4221.000000 4239.000000 3852.000000 4240.000000  \n",
       "mean   132.354599   82.897759   25.800801   75.878981   81.963655    0.151887  \n",
       "std     22.033300   11.910394    4.079840   12.025348   23.954335    0.358953  \n",
       "min     83.500000   48.000000   15.540000   44.000000   40.000000    0.000000  \n",
       "25%    117.000000   75.000000   23.070000   68.000000   71.000000    0.000000  \n",
       "50%    128.000000   82.000000   25.400000   75.000000   78.000000    0.000000  \n",
       "75%    144.000000   90.000000   28.040000   83.000000   87.000000    0.000000  \n",
       "max    295.000000  142.500000   56.800000  143.000000  394.000000    1.000000  "
      ]
     },
     "execution_count": 628,
     "metadata": {},
     "output_type": "execute_result"
    }
   ],
   "source": [
    "# use 'describe' to check the describe of data\n",
    "df_heart.describe()"
   ]
  },
  {
   "cell_type": "markdown",
   "metadata": {
    "id": "vxc43ytvwng8"
   },
   "source": [
    "<a id=\"dtype\"></a>\n",
    "## 2.2 Check the Data Type"
   ]
  },
  {
   "cell_type": "markdown",
   "metadata": {
    "id": "s-iJ23MIwng9"
   },
   "source": [
    "\n",
    "**Check the data type of each variable. If the data type is not as per the data definition, change the data type.**"
   ]
  },
  {
   "cell_type": "code",
   "execution_count": 629,
   "metadata": {
    "execution": {
     "iopub.execute_input": "2022-09-16T17:08:59.731260Z",
     "iopub.status.busy": "2022-09-16T17:08:59.730056Z",
     "iopub.status.idle": "2022-09-16T17:08:59.741427Z",
     "shell.execute_reply": "2022-09-16T17:08:59.740328Z",
     "shell.execute_reply.started": "2022-09-16T17:08:59.731207Z"
    },
    "id": "sk4-RBD9wng9"
   },
   "outputs": [
    {
     "data": {
      "text/plain": [
       "male                 int64\n",
       "age                  int64\n",
       "education          float64\n",
       "currentSmoker        int64\n",
       "cigsPerDay         float64\n",
       "BPMeds             float64\n",
       "prevalentStroke      int64\n",
       "prevalentHyp         int64\n",
       "diabetes             int64\n",
       "totChol            float64\n",
       "sysBP              float64\n",
       "diaBP              float64\n",
       "BMI                float64\n",
       "heartRate          float64\n",
       "glucose            float64\n",
       "CVD                  int64\n",
       "dtype: object"
      ]
     },
     "execution_count": 629,
     "metadata": {},
     "output_type": "execute_result"
    }
   ],
   "source": [
    "# use 'dtypes' to check the data type of a variable\n",
    "df_heart.dtypes"
   ]
  },
  {
   "cell_type": "markdown",
   "metadata": {
    "id": "aPIoPd7Ewng-"
   },
   "source": [
    "#### Change the data type as per the data definition."
   ]
  },
  {
   "cell_type": "code",
   "execution_count": 630,
   "metadata": {
    "execution": {
     "iopub.execute_input": "2022-09-16T04:39:53.601606Z",
     "iopub.status.busy": "2022-09-16T04:39:53.601214Z",
     "iopub.status.idle": "2022-09-16T04:39:53.616205Z",
     "shell.execute_reply": "2022-09-16T04:39:53.615213Z",
     "shell.execute_reply.started": "2022-09-16T04:39:53.601575Z"
    },
    "id": "19ir45ytwng_"
   },
   "outputs": [],
   "source": [
    "# convert numerical variables to categorical (object) \n",
    "# use astype() to change the data type\n",
    "\n",
    "# change the data type of below columns\n",
    "df_heart['BPMeds'] = df_heart['BPMeds'].astype(object)\n",
    "df_heart['male'] = df_heart['male'].astype(object)\n",
    "df_heart['currentSmoker'] = df_heart['currentSmoker'].astype(object)\n",
    "df_heart['prevalentStroke'] = df_heart['prevalentStroke'].astype(object)\n",
    "df_heart['prevalentHyp'] = df_heart['prevalentHyp'].astype(object)\n",
    "df_heart['diabetes'] = df_heart['diabetes'].astype(object)\n"
   ]
  },
  {
   "cell_type": "markdown",
   "metadata": {
    "id": "tqxEL94Rwng_"
   },
   "source": [
    "#### Recheck the data type after the conversion. "
   ]
  },
  {
   "cell_type": "code",
   "execution_count": 631,
   "metadata": {
    "execution": {
     "iopub.execute_input": "2022-09-16T04:40:02.008006Z",
     "iopub.status.busy": "2022-09-16T04:40:02.007571Z",
     "iopub.status.idle": "2022-09-16T04:40:02.017393Z",
     "shell.execute_reply": "2022-09-16T04:40:02.016242Z",
     "shell.execute_reply.started": "2022-09-16T04:40:02.007954Z"
    },
    "id": "hMb3PgoUwnhA"
   },
   "outputs": [
    {
     "data": {
      "text/plain": [
       "male                object\n",
       "age                  int64\n",
       "education          float64\n",
       "currentSmoker       object\n",
       "cigsPerDay         float64\n",
       "BPMeds              object\n",
       "prevalentStroke     object\n",
       "prevalentHyp        object\n",
       "diabetes            object\n",
       "totChol            float64\n",
       "sysBP              float64\n",
       "diaBP              float64\n",
       "BMI                float64\n",
       "heartRate          float64\n",
       "glucose            float64\n",
       "CVD                  int64\n",
       "dtype: object"
      ]
     },
     "execution_count": 631,
     "metadata": {},
     "output_type": "execute_result"
    }
   ],
   "source": [
    "df_heart.dtypes"
   ]
  },
  {
   "cell_type": "markdown",
   "metadata": {
    "id": "qNRiOtjhwnhA"
   },
   "source": [
    "<a id=\"drop\"></a>\n",
    "## 2.3 Remove Insignificant Variables, if exists."
   ]
  },
  {
   "cell_type": "code",
   "execution_count": 632,
   "metadata": {
    "execution": {
     "iopub.execute_input": "2022-09-16T04:40:15.021296Z",
     "iopub.status.busy": "2022-09-16T04:40:15.020738Z",
     "iopub.status.idle": "2022-09-16T04:40:15.044573Z",
     "shell.execute_reply": "2022-09-16T04:40:15.043219Z",
     "shell.execute_reply.started": "2022-09-16T04:40:15.021247Z"
    }
   },
   "outputs": [
    {
     "data": {
      "text/html": [
       "<div>\n",
       "<style scoped>\n",
       "    .dataframe tbody tr th:only-of-type {\n",
       "        vertical-align: middle;\n",
       "    }\n",
       "\n",
       "    .dataframe tbody tr th {\n",
       "        vertical-align: top;\n",
       "    }\n",
       "\n",
       "    .dataframe thead th {\n",
       "        text-align: right;\n",
       "    }\n",
       "</style>\n",
       "<table border=\"1\" class=\"dataframe\">\n",
       "  <thead>\n",
       "    <tr style=\"text-align: right;\">\n",
       "      <th></th>\n",
       "      <th>male</th>\n",
       "      <th>age</th>\n",
       "      <th>education</th>\n",
       "      <th>currentSmoker</th>\n",
       "      <th>cigsPerDay</th>\n",
       "      <th>BPMeds</th>\n",
       "      <th>prevalentStroke</th>\n",
       "      <th>prevalentHyp</th>\n",
       "      <th>diabetes</th>\n",
       "      <th>totChol</th>\n",
       "      <th>sysBP</th>\n",
       "      <th>diaBP</th>\n",
       "      <th>BMI</th>\n",
       "      <th>heartRate</th>\n",
       "      <th>glucose</th>\n",
       "      <th>CVD</th>\n",
       "    </tr>\n",
       "  </thead>\n",
       "  <tbody>\n",
       "    <tr>\n",
       "      <th>0</th>\n",
       "      <td>1</td>\n",
       "      <td>39</td>\n",
       "      <td>4.000000</td>\n",
       "      <td>0</td>\n",
       "      <td>0.000000</td>\n",
       "      <td>0.000000</td>\n",
       "      <td>0</td>\n",
       "      <td>0</td>\n",
       "      <td>0</td>\n",
       "      <td>195.000000</td>\n",
       "      <td>106.000000</td>\n",
       "      <td>70.000000</td>\n",
       "      <td>26.970000</td>\n",
       "      <td>80.000000</td>\n",
       "      <td>77.000000</td>\n",
       "      <td>0</td>\n",
       "    </tr>\n",
       "    <tr>\n",
       "      <th>1</th>\n",
       "      <td>0</td>\n",
       "      <td>46</td>\n",
       "      <td>2.000000</td>\n",
       "      <td>0</td>\n",
       "      <td>0.000000</td>\n",
       "      <td>0.000000</td>\n",
       "      <td>0</td>\n",
       "      <td>0</td>\n",
       "      <td>0</td>\n",
       "      <td>250.000000</td>\n",
       "      <td>121.000000</td>\n",
       "      <td>81.000000</td>\n",
       "      <td>28.730000</td>\n",
       "      <td>95.000000</td>\n",
       "      <td>76.000000</td>\n",
       "      <td>0</td>\n",
       "    </tr>\n",
       "    <tr>\n",
       "      <th>2</th>\n",
       "      <td>1</td>\n",
       "      <td>48</td>\n",
       "      <td>1.000000</td>\n",
       "      <td>1</td>\n",
       "      <td>20.000000</td>\n",
       "      <td>0.000000</td>\n",
       "      <td>0</td>\n",
       "      <td>0</td>\n",
       "      <td>0</td>\n",
       "      <td>245.000000</td>\n",
       "      <td>127.500000</td>\n",
       "      <td>80.000000</td>\n",
       "      <td>25.340000</td>\n",
       "      <td>75.000000</td>\n",
       "      <td>70.000000</td>\n",
       "      <td>0</td>\n",
       "    </tr>\n",
       "    <tr>\n",
       "      <th>3</th>\n",
       "      <td>0</td>\n",
       "      <td>61</td>\n",
       "      <td>3.000000</td>\n",
       "      <td>1</td>\n",
       "      <td>30.000000</td>\n",
       "      <td>0.000000</td>\n",
       "      <td>0</td>\n",
       "      <td>1</td>\n",
       "      <td>0</td>\n",
       "      <td>225.000000</td>\n",
       "      <td>150.000000</td>\n",
       "      <td>95.000000</td>\n",
       "      <td>28.580000</td>\n",
       "      <td>65.000000</td>\n",
       "      <td>103.000000</td>\n",
       "      <td>1</td>\n",
       "    </tr>\n",
       "    <tr>\n",
       "      <th>4</th>\n",
       "      <td>0</td>\n",
       "      <td>46</td>\n",
       "      <td>3.000000</td>\n",
       "      <td>1</td>\n",
       "      <td>23.000000</td>\n",
       "      <td>0.000000</td>\n",
       "      <td>0</td>\n",
       "      <td>0</td>\n",
       "      <td>0</td>\n",
       "      <td>285.000000</td>\n",
       "      <td>130.000000</td>\n",
       "      <td>84.000000</td>\n",
       "      <td>23.100000</td>\n",
       "      <td>85.000000</td>\n",
       "      <td>85.000000</td>\n",
       "      <td>0</td>\n",
       "    </tr>\n",
       "  </tbody>\n",
       "</table>\n",
       "</div>"
      ],
      "text/plain": [
       "  male  age  education currentSmoker  cigsPerDay   BPMeds prevalentStroke  \\\n",
       "0    1   39   4.000000             0    0.000000 0.000000               0   \n",
       "1    0   46   2.000000             0    0.000000 0.000000               0   \n",
       "2    1   48   1.000000             1   20.000000 0.000000               0   \n",
       "3    0   61   3.000000             1   30.000000 0.000000               0   \n",
       "4    0   46   3.000000             1   23.000000 0.000000               0   \n",
       "\n",
       "  prevalentHyp diabetes    totChol      sysBP     diaBP       BMI  heartRate  \\\n",
       "0            0        0 195.000000 106.000000 70.000000 26.970000  80.000000   \n",
       "1            0        0 250.000000 121.000000 81.000000 28.730000  95.000000   \n",
       "2            0        0 245.000000 127.500000 80.000000 25.340000  75.000000   \n",
       "3            1        0 225.000000 150.000000 95.000000 28.580000  65.000000   \n",
       "4            0        0 285.000000 130.000000 84.000000 23.100000  85.000000   \n",
       "\n",
       "     glucose  CVD  \n",
       "0  77.000000    0  \n",
       "1  76.000000    0  \n",
       "2  70.000000    0  \n",
       "3 103.000000    1  \n",
       "4  85.000000    0  "
      ]
     },
     "execution_count": 632,
     "metadata": {},
     "output_type": "execute_result"
    }
   ],
   "source": [
    "df_heart.head(5)"
   ]
  },
  {
   "cell_type": "code",
   "execution_count": 633,
   "metadata": {
    "execution": {
     "iopub.execute_input": "2022-09-16T04:40:09.502255Z",
     "iopub.status.busy": "2022-09-16T04:40:09.501769Z",
     "iopub.status.idle": "2022-09-16T04:40:09.517596Z",
     "shell.execute_reply": "2022-09-16T04:40:09.516169Z",
     "shell.execute_reply.started": "2022-09-16T04:40:09.502216Z"
    },
    "id": "qfQOYLilwnhB"
   },
   "outputs": [],
   "source": [
    "# for the independent numeric variables, we plot the histogram to check the distribution of the variables\n",
    "# Note: the hist() function considers the numeric variables only, by default\n",
    "# we drop the target variable using drop()\n",
    "# 'axis=1' drops the specified column\n",
    "df_heart=df_heart.drop('education', axis = 1)"
   ]
  },
  {
   "cell_type": "code",
   "execution_count": 634,
   "metadata": {},
   "outputs": [
    {
     "data": {
      "image/png": "[encoded data removed]",
      "text/plain": [
       "<matplotlib.figure.Figure at 0x1c1a6b85c0>"
      ]
     },
     "metadata": {},
     "output_type": "display_data"
    }
   ],
   "source": [
    "l=['male', 'age','currentSmoker', 'cigsPerDay', 'BPMeds',\n",
    "       'prevalentStroke', 'prevalentHyp', 'diabetes', 'totChol', 'sysBP',\n",
    "       'diaBP', 'BMI', 'heartRate', 'glucose', 'CVD']\n",
    "plt.figure(figsize=(20,20))\n",
    "for i in range(1,16):\n",
    "    plt.subplot(4,4,i)\n",
    "    sns.distplot(df_heart[l[i-1]],hist=False)"
   ]
  },
  {
   "cell_type": "code",
   "execution_count": 635,
   "metadata": {},
   "outputs": [
    {
     "data": {
      "image/png": "[encoded data removed]",
      "text/plain": [
       "<matplotlib.figure.Figure at 0x1c1de160b8>"
      ]
     },
     "metadata": {},
     "output_type": "display_data"
    }
   ],
   "source": [
    "l=['male', 'age', 'currentSmoker', 'cigsPerDay', 'BPMeds',\n",
    "       'prevalentStroke', 'prevalentHyp', 'diabetes', 'totChol', 'sysBP',\n",
    "       'diaBP', 'BMI', 'heartRate', 'glucose', 'CVD']\n",
    "plt.figure(figsize=(20,20))\n",
    "for i in range(1,16):\n",
    "    plt.subplot(4,4,i)\n",
    "    sns.distplot(df_heart[df_heart['CVD']==1][l[i-1]],hist=False,color='red')\n",
    "    sns.distplot(df_heart[df_heart['CVD']==0][l[i-1]],hist=False,color='blue')"
   ]
  },
  {
   "cell_type": "markdown",
   "metadata": {},
   "source": [
    "We can see that diabetes,BPMeds and prevalent stroke column have 2 class 0 and 1 and is highly imbalance that one type of class is looking like outlier same with target column"
   ]
  },
  {
   "cell_type": "markdown",
   "metadata": {
    "id": "zjYtQ1x_wnhC"
   },
   "source": [
    "**Distribution of numeric independent variables.**"
   ]
  },
  {
   "cell_type": "code",
   "execution_count": 636,
   "metadata": {
    "execution": {
     "iopub.execute_input": "2022-09-16T04:40:28.855130Z",
     "iopub.status.busy": "2022-09-16T04:40:28.854720Z",
     "iopub.status.idle": "2022-09-16T04:40:29.876333Z",
     "shell.execute_reply": "2022-09-16T04:40:29.875210Z",
     "shell.execute_reply.started": "2022-09-16T04:40:28.855097Z"
    },
    "id": "LlJZtRgcwnhC"
   },
   "outputs": [
    {
     "data": {
      "image/png": "[encoded data removed]",
      "text/plain": [
       "<matplotlib.figure.Figure at 0x1c1a5cbef0>"
      ]
     },
     "metadata": {},
     "output_type": "display_data"
    },
    {
     "name": "stdout",
     "output_type": "stream",
     "text": [
      "Skewness:\n"
     ]
    },
    {
     "data": {
      "text/plain": [
       "male               0.285997\n",
       "age                0.228867\n",
       "currentSmoker      0.023595\n",
       "cigsPerDay         1.247052\n",
       "BPMeds             5.551462\n",
       "prevalentStroke   12.912160\n",
       "prevalentHyp       0.818827\n",
       "diabetes           5.995907\n",
       "totChol            0.871881\n",
       "sysBP              1.145285\n",
       "diaBP              0.713250\n",
       "BMI                0.982183\n",
       "heartRate          0.644372\n",
       "glucose            6.214948\n",
       "dtype: float64"
      ]
     },
     "execution_count": 636,
     "metadata": {},
     "output_type": "execute_result"
    }
   ],
   "source": [
    "# for the independent numeric variables, we plot the histogram to check the distribution of the variables\n",
    "# Note: the hist() function considers the numeric variables only, by default\n",
    "# we drop the target variable using drop()\n",
    "# 'axis=1' drops the specified column\n",
    "df_heart.drop('CVD', axis = 1).hist()\n",
    "\n",
    "# adjust the subplots\n",
    "plt.tight_layout()\n",
    "\n",
    "# display the plot\n",
    "plt.show()  \n",
    "\n",
    "# print the skewness for each numeric independent variable\n",
    "print('Skewness:')\n",
    "# we drop the target variable using drop()\n",
    "# 'axis=1' drops the specified column\n",
    "# skew() returns the coefficient of skewness for each variable\n",
    "df_heart.drop('CVD', axis = 1).skew()"
   ]
  },
  {
   "cell_type": "markdown",
   "metadata": {
    "id": "YwNECX5NwnhD"
   },
   "source": [
    "**Distribution of categoric independent variable.**"
   ]
  },
  {
   "cell_type": "code",
   "execution_count": 637,
   "metadata": {
    "execution": {
     "iopub.execute_input": "2022-09-16T04:40:50.442319Z",
     "iopub.status.busy": "2022-09-16T04:40:50.441882Z",
     "iopub.status.idle": "2022-09-16T04:40:50.632975Z",
     "shell.execute_reply": "2022-09-16T04:40:50.631719Z",
     "shell.execute_reply.started": "2022-09-16T04:40:50.442284Z"
    },
    "id": "Lk7rNbzGwnhD"
   },
   "outputs": [
    {
     "data": {
      "image/png": "[encoded data removed]",
      "text/plain": [
       "<matplotlib.figure.Figure at 0x1c1ac56cc0>"
      ]
     },
     "metadata": {},
     "output_type": "display_data"
    }
   ],
   "source": [
    "# for the independent categoric variable, we plot the count plot to check the distribution of the variable 'Research'\n",
    "# use countplot() to plot the count of each label in the categorical variable \n",
    "sns.countplot(df_heart.currentSmoker)\n",
    "\n",
    "# add plot and axes labels\n",
    "# set text size using 'fontsize'\n",
    "plt.title('Count Plot for Categorical Variable (currentSmoker)', fontsize = 15)\n",
    "plt.xlabel('currentSmoker', fontsize = 15)\n",
    "plt.ylabel('Count', fontsize = 15)\n",
    "\n",
    "# display the plot\n",
    "plt.show()"
   ]
  },
  {
   "cell_type": "code",
   "execution_count": 638,
   "metadata": {
    "execution": {
     "iopub.execute_input": "2022-09-16T04:40:58.831954Z",
     "iopub.status.busy": "2022-09-16T04:40:58.831404Z",
     "iopub.status.idle": "2022-09-16T04:40:59.038284Z",
     "shell.execute_reply": "2022-09-16T04:40:59.036755Z",
     "shell.execute_reply.started": "2022-09-16T04:40:58.831907Z"
    }
   },
   "outputs": [
    {
     "data": {
      "image/png": "[encoded data removed]",
      "text/plain": [
       "<matplotlib.figure.Figure at 0x1c1bbc2978>"
      ]
     },
     "metadata": {},
     "output_type": "display_data"
    }
   ],
   "source": [
    "# for the independent categoric variable, we plot the count plot to check the distribution of the variable 'Research'\n",
    "# use countplot() to plot the count of each label in the categorical variable \n",
    "sns.countplot(df_heart.male)\n",
    "\n",
    "# add plot and axes labels\n",
    "# set text size using 'fontsize'\n",
    "plt.title('Count Plot for Categorical Variable (male)', fontsize = 15)\n",
    "plt.xlabel('male', fontsize = 15)\n",
    "plt.ylabel('Count', fontsize = 15)\n",
    "\n",
    "# display the plot\n",
    "plt.show()"
   ]
  },
  {
   "cell_type": "code",
   "execution_count": 639,
   "metadata": {
    "execution": {
     "iopub.execute_input": "2022-09-16T04:41:56.146277Z",
     "iopub.status.busy": "2022-09-16T04:41:56.145761Z",
     "iopub.status.idle": "2022-09-16T04:41:56.512490Z",
     "shell.execute_reply": "2022-09-16T04:41:56.511301Z",
     "shell.execute_reply.started": "2022-09-16T04:41:56.146238Z"
    }
   },
   "outputs": [
    {
     "data": {
      "image/png": "[encoded data removed]",
      "text/plain": [
       "<matplotlib.figure.Figure at 0x1c1a426a58>"
      ]
     },
     "metadata": {},
     "output_type": "display_data"
    }
   ],
   "source": [
    "# for the independent categoric variable, we plot the count plot to check the distribution of the variable 'Research'\n",
    "# use countplot() to plot the count of each label in the categorical variable \n",
    "sns.countplot(df_heart.BPMeds)\n",
    "\n",
    "# add plot and axes labels\n",
    "# set text size using 'fontsize'\n",
    "plt.title('Count Plot for Categorical Variable (BPMeds)', fontsize = 15)\n",
    "plt.xlabel('BPMeds', fontsize = 15)\n",
    "plt.ylabel('Count', fontsize = 15)\n",
    "\n",
    "# display the plot\n",
    "plt.show()"
   ]
  },
  {
   "cell_type": "code",
   "execution_count": 640,
   "metadata": {
    "execution": {
     "iopub.execute_input": "2022-09-16T04:42:05.146307Z",
     "iopub.status.busy": "2022-09-16T04:42:05.145856Z",
     "iopub.status.idle": "2022-09-16T04:42:05.350844Z",
     "shell.execute_reply": "2022-09-16T04:42:05.349568Z",
     "shell.execute_reply.started": "2022-09-16T04:42:05.146265Z"
    }
   },
   "outputs": [
    {
     "data": {
      "image/png": "[encoded data removed]",
      "text/plain": [
       "<matplotlib.figure.Figure at 0x1c1cbbc0f0>"
      ]
     },
     "metadata": {},
     "output_type": "display_data"
    }
   ],
   "source": [
    "#prevalentStroke\n",
    "# for the independent categoric variable, we plot the count plot to check the distribution of the variable 'Research'\n",
    "# use countplot() to plot the count of each label in the categorical variable \n",
    "sns.countplot(df_heart.prevalentStroke)\n",
    "\n",
    "# add plot and axes labels\n",
    "# set text size using 'fontsize'\n",
    "plt.title('Count Plot for Categorical Variable (prevalentStroke)', fontsize = 15)\n",
    "plt.xlabel('prevalentStroke', fontsize = 15)\n",
    "plt.ylabel('Count', fontsize = 15)\n",
    "\n",
    "# display the plot\n",
    "plt.show()"
   ]
  },
  {
   "cell_type": "code",
   "execution_count": 641,
   "metadata": {
    "execution": {
     "iopub.execute_input": "2022-09-16T04:42:13.344196Z",
     "iopub.status.busy": "2022-09-16T04:42:13.343579Z",
     "iopub.status.idle": "2022-09-16T04:42:13.480247Z",
     "shell.execute_reply": "2022-09-16T04:42:13.478529Z",
     "shell.execute_reply.started": "2022-09-16T04:42:13.344135Z"
    }
   },
   "outputs": [
    {
     "data": {
      "image/png": "[encoded data removed]",
      "text/plain": [
       "<matplotlib.figure.Figure at 0x1c1c1203c8>"
      ]
     },
     "metadata": {},
     "output_type": "display_data"
    }
   ],
   "source": [
    "# for the independent categoric variable, we plot the count plot to check the distribution of the variable 'Research'\n",
    "# use countplot() to plot the count of each label in the categorical variable \n",
    "sns.countplot(df_heart.prevalentHyp)\n",
    "\n",
    "# add plot and axes labels\n",
    "# set text size using 'fontsize'\n",
    "plt.title('Count Plot for Categorical Variable (prevalentHyp)', fontsize = 15)\n",
    "plt.xlabel('prevalentHyp', fontsize = 15)\n",
    "plt.ylabel('Count', fontsize = 15)\n",
    "\n",
    "# display the plot\n",
    "plt.show()"
   ]
  },
  {
   "cell_type": "code",
   "execution_count": 642,
   "metadata": {
    "execution": {
     "iopub.execute_input": "2022-09-16T04:42:20.142779Z",
     "iopub.status.busy": "2022-09-16T04:42:20.141614Z",
     "iopub.status.idle": "2022-09-16T04:42:20.340491Z",
     "shell.execute_reply": "2022-09-16T04:42:20.339556Z",
     "shell.execute_reply.started": "2022-09-16T04:42:20.142585Z"
    }
   },
   "outputs": [
    {
     "data": {
      "image/png": "[encoded data removed]",
      "text/plain": [
       "<matplotlib.figure.Figure at 0x1c1a3f2198>"
      ]
     },
     "metadata": {},
     "output_type": "display_data"
    }
   ],
   "source": [
    "# for the independent categoric variable, we plot the count plot to check the distribution of the variable 'Research'\n",
    "# use countplot() to plot the count of each label in the categorical variable \n",
    "sns.countplot(df_heart.diabetes)\n",
    "\n",
    "# add plot and axes labels\n",
    "# set text size using 'fontsize'\n",
    "plt.title('Count Plot for Categorical Variable (diabetes)', fontsize = 15)\n",
    "plt.xlabel('diabetes', fontsize = 15)\n",
    "plt.ylabel('Count', fontsize = 15)\n",
    "\n",
    "# display the plot\n",
    "plt.show()"
   ]
  },
  {
   "cell_type": "markdown",
   "metadata": {
    "id": "vdO18qjrwnhD"
   },
   "source": [
    "#### Distribution of dependent variable."
   ]
  },
  {
   "cell_type": "code",
   "execution_count": 643,
   "metadata": {
    "execution": {
     "iopub.execute_input": "2022-09-16T04:42:25.660533Z",
     "iopub.status.busy": "2022-09-16T04:42:25.659263Z",
     "iopub.status.idle": "2022-09-16T04:42:25.811477Z",
     "shell.execute_reply": "2022-09-16T04:42:25.810214Z",
     "shell.execute_reply.started": "2022-09-16T04:42:25.660489Z"
    },
    "id": "0uWMGvj_wnhE"
   },
   "outputs": [
    {
     "data": {
      "image/png": "[encoded data removed]",
      "text/plain": [
       "<matplotlib.figure.Figure at 0x1c1ca33390>"
      ]
     },
     "metadata": {},
     "output_type": "display_data"
    }
   ],
   "source": [
    "# consider only the target variable\n",
    "df_target = df_heart['CVD'].copy()\n",
    "\n",
    "# get counts of 0's and 1's in the 'Chance of Admit' variable\n",
    "df_target.value_counts()\n",
    "\n",
    "# plot the countplot of the variable 'Chance of Admit'\n",
    "sns.countplot(x = df_target)\n",
    "\n",
    "# use below code to print the values in the graph\n",
    "# 'x' and 'y' gives position of the text\n",
    "# 's' is the text \n",
    "plt.text(x = -0.05, y = df_target.value_counts()[0] + 1, s = str(round((df_target.value_counts()[0])*100/len(df_target),2)) + '%')\n",
    "plt.text(x = 0.95, y = df_target.value_counts()[1] +1, s = str(round((df_target.value_counts()[1])*100/len(df_target),2)) + '%')\n",
    "\n",
    "# add plot and axes labels\n",
    "# set text size using 'fontsize'\n",
    "plt.title('Count Plot for Target Variable (CVD)', fontsize = 15)\n",
    "plt.xlabel('Target Variable', fontsize = 15)\n",
    "plt.ylabel('Count', fontsize = 15)\n",
    "\n",
    "# to show the plot\n",
    "plt.show()"
   ]
  },
  {
   "cell_type": "markdown",
   "metadata": {
    "id": "tLOnjADdwnhE"
   },
   "source": [
    "<a id=\"null\"></a>\n",
    "## 2.5 Missing Value Treatment"
   ]
  },
  {
   "cell_type": "markdown",
   "metadata": {
    "id": "zETkjPetwnhE"
   },
   "source": [
    "Check for the presence of missing values and their percentage for each column. If applicable, choose the right approach to treat them."
   ]
  },
  {
   "cell_type": "markdown",
   "metadata": {
    "id": "WRFn2a2GxSS5"
   },
   "source": [
    "Is it a good approach to drop the records/columns with missing values? Why or why not?"
   ]
  },
  {
   "cell_type": "code",
   "execution_count": 644,
   "metadata": {
    "execution": {
     "iopub.execute_input": "2022-09-16T04:43:03.154987Z",
     "iopub.status.busy": "2022-09-16T04:43:03.154592Z",
     "iopub.status.idle": "2022-09-16T04:43:03.181519Z",
     "shell.execute_reply": "2022-09-16T04:43:03.180208Z",
     "shell.execute_reply.started": "2022-09-16T04:43:03.154957Z"
    },
    "id": "sHDZOktswnhF"
   },
   "outputs": [
    {
     "data": {
      "text/html": [
       "<div>\n",
       "<style scoped>\n",
       "    .dataframe tbody tr th:only-of-type {\n",
       "        vertical-align: middle;\n",
       "    }\n",
       "\n",
       "    .dataframe tbody tr th {\n",
       "        vertical-align: top;\n",
       "    }\n",
       "\n",
       "    .dataframe thead th {\n",
       "        text-align: right;\n",
       "    }\n",
       "</style>\n",
       "<table border=\"1\" class=\"dataframe\">\n",
       "  <thead>\n",
       "    <tr style=\"text-align: right;\">\n",
       "      <th></th>\n",
       "      <th>Total</th>\n",
       "      <th>Percentage of Missing Values</th>\n",
       "    </tr>\n",
       "  </thead>\n",
       "  <tbody>\n",
       "    <tr>\n",
       "      <th>glucose</th>\n",
       "      <td>388</td>\n",
       "      <td>9.150943</td>\n",
       "    </tr>\n",
       "    <tr>\n",
       "      <th>BPMeds</th>\n",
       "      <td>53</td>\n",
       "      <td>1.250000</td>\n",
       "    </tr>\n",
       "    <tr>\n",
       "      <th>totChol</th>\n",
       "      <td>50</td>\n",
       "      <td>1.179245</td>\n",
       "    </tr>\n",
       "    <tr>\n",
       "      <th>cigsPerDay</th>\n",
       "      <td>29</td>\n",
       "      <td>0.683962</td>\n",
       "    </tr>\n",
       "    <tr>\n",
       "      <th>BMI</th>\n",
       "      <td>19</td>\n",
       "      <td>0.448113</td>\n",
       "    </tr>\n",
       "    <tr>\n",
       "      <th>heartRate</th>\n",
       "      <td>1</td>\n",
       "      <td>0.023585</td>\n",
       "    </tr>\n",
       "    <tr>\n",
       "      <th>CVD</th>\n",
       "      <td>0</td>\n",
       "      <td>0.000000</td>\n",
       "    </tr>\n",
       "    <tr>\n",
       "      <th>diaBP</th>\n",
       "      <td>0</td>\n",
       "      <td>0.000000</td>\n",
       "    </tr>\n",
       "    <tr>\n",
       "      <th>sysBP</th>\n",
       "      <td>0</td>\n",
       "      <td>0.000000</td>\n",
       "    </tr>\n",
       "    <tr>\n",
       "      <th>diabetes</th>\n",
       "      <td>0</td>\n",
       "      <td>0.000000</td>\n",
       "    </tr>\n",
       "    <tr>\n",
       "      <th>prevalentHyp</th>\n",
       "      <td>0</td>\n",
       "      <td>0.000000</td>\n",
       "    </tr>\n",
       "    <tr>\n",
       "      <th>prevalentStroke</th>\n",
       "      <td>0</td>\n",
       "      <td>0.000000</td>\n",
       "    </tr>\n",
       "    <tr>\n",
       "      <th>currentSmoker</th>\n",
       "      <td>0</td>\n",
       "      <td>0.000000</td>\n",
       "    </tr>\n",
       "    <tr>\n",
       "      <th>age</th>\n",
       "      <td>0</td>\n",
       "      <td>0.000000</td>\n",
       "    </tr>\n",
       "    <tr>\n",
       "      <th>male</th>\n",
       "      <td>0</td>\n",
       "      <td>0.000000</td>\n",
       "    </tr>\n",
       "  </tbody>\n",
       "</table>\n",
       "</div>"
      ],
      "text/plain": [
       "                 Total  Percentage of Missing Values\n",
       "glucose            388                      9.150943\n",
       "BPMeds              53                      1.250000\n",
       "totChol             50                      1.179245\n",
       "cigsPerDay          29                      0.683962\n",
       "BMI                 19                      0.448113\n",
       "heartRate            1                      0.023585\n",
       "CVD                  0                      0.000000\n",
       "diaBP                0                      0.000000\n",
       "sysBP                0                      0.000000\n",
       "diabetes             0                      0.000000\n",
       "prevalentHyp         0                      0.000000\n",
       "prevalentStroke      0                      0.000000\n",
       "currentSmoker        0                      0.000000\n",
       "age                  0                      0.000000\n",
       "male                 0                      0.000000"
      ]
     },
     "execution_count": 644,
     "metadata": {},
     "output_type": "execute_result"
    }
   ],
   "source": [
    "# sort the variables on the basis of total null values in the variable\n",
    "# 'isnull().sum()' returns the number of missing values in each variable\n",
    "# 'ascending = False' sorts values in the descending order\n",
    "# the variable with highest number of missing values will appear first\n",
    "Total = df_heart.isnull().sum().sort_values(ascending=False)          \n",
    "\n",
    "# calculate percentage of missing values\n",
    "# 'ascending = False' sorts values in the descending order\n",
    "# the variable with highest percentage of missing values will appear first\n",
    "Percent = (df_heart.isnull().sum()*100/df_heart.isnull().count()).sort_values(ascending=False)   \n",
    "\n",
    "# concat the 'Total' and 'Percent' columns using 'concat' function\n",
    "# pass a list of column names in parameter 'keys' \n",
    "# 'axis = 1' concats along the columns\n",
    "missing_data = pd.concat([Total, Percent], axis = 1, keys = ['Total', 'Percentage of Missing Values'])    \n",
    "missing_data"
   ]
  },
  {
   "cell_type": "code",
   "execution_count": 645,
   "metadata": {
    "execution": {
     "iopub.execute_input": "2022-09-16T04:47:29.349936Z",
     "iopub.status.busy": "2022-09-16T04:47:29.349428Z",
     "iopub.status.idle": "2022-09-16T04:47:29.363631Z",
     "shell.execute_reply": "2022-09-16T04:47:29.362241Z",
     "shell.execute_reply.started": "2022-09-16T04:47:29.349894Z"
    }
   },
   "outputs": [
    {
     "data": {
      "text/plain": [
       "male                 0\n",
       "age                  0\n",
       "currentSmoker        0\n",
       "cigsPerDay          29\n",
       "BPMeds              53\n",
       "prevalentStroke      0\n",
       "prevalentHyp         0\n",
       "diabetes             0\n",
       "totChol             50\n",
       "sysBP                0\n",
       "diaBP                0\n",
       "BMI                 19\n",
       "heartRate            1\n",
       "glucose            388\n",
       "CVD                  0\n",
       "dtype: int64"
      ]
     },
     "execution_count": 645,
     "metadata": {},
     "output_type": "execute_result"
    }
   ],
   "source": [
    "df_heart.isnull().sum()"
   ]
  },
  {
   "cell_type": "code",
   "execution_count": 646,
   "metadata": {
    "execution": {
     "iopub.execute_input": "2022-09-16T04:47:36.120983Z",
     "iopub.status.busy": "2022-09-16T04:47:36.120569Z",
     "iopub.status.idle": "2022-09-16T04:47:36.133065Z",
     "shell.execute_reply": "2022-09-16T04:47:36.132162Z",
     "shell.execute_reply.started": "2022-09-16T04:47:36.120948Z"
    }
   },
   "outputs": [
    {
     "name": "stdout",
     "output_type": "stream",
     "text": [
      "Total number of rows with missing values is  489\n",
      "since it is only 12 percent of the entire dataset the rows with missing values are excluded.\n"
     ]
    }
   ],
   "source": [
    "count=0\n",
    "for i in df_heart.isnull().sum(axis=1):\n",
    "    if i>0:\n",
    "        count=count+1\n",
    "print('Total number of rows with missing values is ', count)\n",
    "print('since it is only',round((count/len(df_heart.index))*100), 'percent of the entire dataset the rows with missing values are excluded.')"
   ]
  },
  {
   "cell_type": "code",
   "execution_count": 647,
   "metadata": {},
   "outputs": [
    {
     "data": {
      "text/plain": [
       "cigsPerDay     29\n",
       "BPMeds         53\n",
       "totChol        50\n",
       "BMI            19\n",
       "heartRate       1\n",
       "glucose       388\n",
       "dtype: int64"
      ]
     },
     "execution_count": 647,
     "metadata": {},
     "output_type": "execute_result"
    }
   ],
   "source": [
    "df_heart.isnull().sum()[df_heart.isnull().sum()>0]"
   ]
  },
  {
   "cell_type": "code",
   "execution_count": 648,
   "metadata": {},
   "outputs": [
    {
     "name": "stdout",
     "output_type": "stream",
     "text": [
      "  male  age currentSmoker  cigsPerDay   BPMeds prevalentStroke prevalentHyp  \\\n",
      "0    1   39             0    0.000000 0.000000               0            0   \n",
      "1    0   46             0    0.000000 0.000000               0            0   \n",
      "2    1   48             1   20.000000 0.000000               0            0   \n",
      "3    0   61             1   30.000000 0.000000               0            1   \n",
      "4    0   46             1   23.000000 0.000000               0            0   \n",
      "\n",
      "  diabetes    totChol      sysBP     diaBP       BMI  heartRate    glucose  \\\n",
      "0        0 195.000000 106.000000 70.000000 26.970000  80.000000  77.000000   \n",
      "1        0 250.000000 121.000000 81.000000 28.730000  95.000000  76.000000   \n",
      "2        0 245.000000 127.500000 80.000000 25.340000  75.000000  70.000000   \n",
      "3        0 225.000000 150.000000 95.000000 28.580000  65.000000 103.000000   \n",
      "4        0 285.000000 130.000000 84.000000 23.100000  85.000000  85.000000   \n",
      "\n",
      "   CVD  \n",
      "0    0  \n",
      "1    0  \n",
      "2    0  \n",
      "3    1  \n",
      "4    0   (3751, 15)\n",
      "0    3179\n",
      "1     572\n",
      "Name: CVD, dtype: int64\n"
     ]
    }
   ],
   "source": [
    "# removing NaN / NULL values\n",
    "df_heart.dropna(axis = 0, inplace = True)\n",
    "print(df_heart.head(), df_heart.shape)\n",
    "print(df_heart.CVD.value_counts())"
   ]
  },
  {
   "cell_type": "code",
   "execution_count": 649,
   "metadata": {},
   "outputs": [
    {
     "data": {
      "text/plain": [
       "Index(['male', 'age', 'currentSmoker', 'cigsPerDay', 'BPMeds',\n",
       "       'prevalentStroke', 'prevalentHyp', 'diabetes', 'totChol', 'sysBP',\n",
       "       'diaBP', 'BMI', 'heartRate', 'glucose', 'CVD'],\n",
       "      dtype='object')"
      ]
     },
     "execution_count": 649,
     "metadata": {},
     "output_type": "execute_result"
    }
   ],
   "source": [
    "df_heart.columns"
   ]
  },
  {
   "cell_type": "code",
   "execution_count": 650,
   "metadata": {},
   "outputs": [
    {
     "data": {
      "image/png": "[encoded data removed]",
      "text/plain": [
       "<matplotlib.figure.Figure at 0x1c1cbb3860>"
      ]
     },
     "metadata": {},
     "output_type": "display_data"
    }
   ],
   "source": [
    "# counting no. of patients affected with CHD\n",
    "plt.figure(figsize = (7, 5))\n",
    "sns.countplot(x ='CVD', data = df_heart,\n",
    "             palette =\"BuGn_r\" )\n",
    "plt.show()"
   ]
  },
  {
   "cell_type": "code",
   "execution_count": 651,
   "metadata": {},
   "outputs": [
    {
     "data": {
      "image/png": "[encoded data removed]",
      "text/plain": [
       "<matplotlib.figure.Figure at 0x1c1a853b38>"
      ]
     },
     "metadata": {},
     "output_type": "display_data"
    }
   ],
   "source": [
    "laste = df_heart['CVD'].plot()\n",
    "plt.show(laste)"
   ]
  },
  {
   "cell_type": "code",
   "execution_count": 652,
   "metadata": {},
   "outputs": [
    {
     "data": {
      "text/html": [
       "<div>\n",
       "<style scoped>\n",
       "    .dataframe tbody tr th:only-of-type {\n",
       "        vertical-align: middle;\n",
       "    }\n",
       "\n",
       "    .dataframe tbody tr th {\n",
       "        vertical-align: top;\n",
       "    }\n",
       "\n",
       "    .dataframe thead th {\n",
       "        text-align: right;\n",
       "    }\n",
       "</style>\n",
       "<table border=\"1\" class=\"dataframe\">\n",
       "  <thead>\n",
       "    <tr style=\"text-align: right;\">\n",
       "      <th></th>\n",
       "      <th>cigsPerDay</th>\n",
       "      <th>totChol</th>\n",
       "      <th>BMI</th>\n",
       "      <th>heartRate</th>\n",
       "      <th>glucose</th>\n",
       "      <th>cigsPerDay</th>\n",
       "      <th>totChol</th>\n",
       "      <th>BMI</th>\n",
       "      <th>heartRate</th>\n",
       "      <th>glucose</th>\n",
       "    </tr>\n",
       "  </thead>\n",
       "  <tbody>\n",
       "    <tr>\n",
       "      <th>cigsPerDay</th>\n",
       "      <td>142.207927</td>\n",
       "      <td>-16.279119</td>\n",
       "      <td>-4.388908</td>\n",
       "      <td>9.580659</td>\n",
       "      <td>-15.689643</td>\n",
       "      <td>142.207927</td>\n",
       "      <td>-16.279119</td>\n",
       "      <td>-4.388908</td>\n",
       "      <td>9.580659</td>\n",
       "      <td>-15.689643</td>\n",
       "    </tr>\n",
       "    <tr>\n",
       "      <th>totChol</th>\n",
       "      <td>-16.279119</td>\n",
       "      <td>1990.194284</td>\n",
       "      <td>21.701375</td>\n",
       "      <td>50.563227</td>\n",
       "      <td>49.970562</td>\n",
       "      <td>-16.279119</td>\n",
       "      <td>1990.194284</td>\n",
       "      <td>21.701375</td>\n",
       "      <td>50.563227</td>\n",
       "      <td>49.970562</td>\n",
       "    </tr>\n",
       "    <tr>\n",
       "      <th>BMI</th>\n",
       "      <td>-4.388908</td>\n",
       "      <td>21.701375</td>\n",
       "      <td>16.529093</td>\n",
       "      <td>3.484747</td>\n",
       "      <td>8.557331</td>\n",
       "      <td>-4.388908</td>\n",
       "      <td>21.701375</td>\n",
       "      <td>16.529093</td>\n",
       "      <td>3.484747</td>\n",
       "      <td>8.557331</td>\n",
       "    </tr>\n",
       "    <tr>\n",
       "      <th>heartRate</th>\n",
       "      <td>9.580659</td>\n",
       "      <td>50.563227</td>\n",
       "      <td>3.484747</td>\n",
       "      <td>142.955074</td>\n",
       "      <td>28.433023</td>\n",
       "      <td>9.580659</td>\n",
       "      <td>50.563227</td>\n",
       "      <td>3.484747</td>\n",
       "      <td>142.955074</td>\n",
       "      <td>28.433023</td>\n",
       "    </tr>\n",
       "    <tr>\n",
       "      <th>glucose</th>\n",
       "      <td>-15.689643</td>\n",
       "      <td>49.970562</td>\n",
       "      <td>8.557331</td>\n",
       "      <td>28.433023</td>\n",
       "      <td>570.361071</td>\n",
       "      <td>-15.689643</td>\n",
       "      <td>49.970562</td>\n",
       "      <td>8.557331</td>\n",
       "      <td>28.433023</td>\n",
       "      <td>570.361071</td>\n",
       "    </tr>\n",
       "    <tr>\n",
       "      <th>cigsPerDay</th>\n",
       "      <td>142.207927</td>\n",
       "      <td>-16.279119</td>\n",
       "      <td>-4.388908</td>\n",
       "      <td>9.580659</td>\n",
       "      <td>-15.689643</td>\n",
       "      <td>142.207927</td>\n",
       "      <td>-16.279119</td>\n",
       "      <td>-4.388908</td>\n",
       "      <td>9.580659</td>\n",
       "      <td>-15.689643</td>\n",
       "    </tr>\n",
       "    <tr>\n",
       "      <th>totChol</th>\n",
       "      <td>-16.279119</td>\n",
       "      <td>1990.194284</td>\n",
       "      <td>21.701375</td>\n",
       "      <td>50.563227</td>\n",
       "      <td>49.970562</td>\n",
       "      <td>-16.279119</td>\n",
       "      <td>1990.194284</td>\n",
       "      <td>21.701375</td>\n",
       "      <td>50.563227</td>\n",
       "      <td>49.970562</td>\n",
       "    </tr>\n",
       "    <tr>\n",
       "      <th>BMI</th>\n",
       "      <td>-4.388908</td>\n",
       "      <td>21.701375</td>\n",
       "      <td>16.529093</td>\n",
       "      <td>3.484747</td>\n",
       "      <td>8.557331</td>\n",
       "      <td>-4.388908</td>\n",
       "      <td>21.701375</td>\n",
       "      <td>16.529093</td>\n",
       "      <td>3.484747</td>\n",
       "      <td>8.557331</td>\n",
       "    </tr>\n",
       "    <tr>\n",
       "      <th>heartRate</th>\n",
       "      <td>9.580659</td>\n",
       "      <td>50.563227</td>\n",
       "      <td>3.484747</td>\n",
       "      <td>142.955074</td>\n",
       "      <td>28.433023</td>\n",
       "      <td>9.580659</td>\n",
       "      <td>50.563227</td>\n",
       "      <td>3.484747</td>\n",
       "      <td>142.955074</td>\n",
       "      <td>28.433023</td>\n",
       "    </tr>\n",
       "    <tr>\n",
       "      <th>glucose</th>\n",
       "      <td>-15.689643</td>\n",
       "      <td>49.970562</td>\n",
       "      <td>8.557331</td>\n",
       "      <td>28.433023</td>\n",
       "      <td>570.361071</td>\n",
       "      <td>-15.689643</td>\n",
       "      <td>49.970562</td>\n",
       "      <td>8.557331</td>\n",
       "      <td>28.433023</td>\n",
       "      <td>570.361071</td>\n",
       "    </tr>\n",
       "  </tbody>\n",
       "</table>\n",
       "</div>"
      ],
      "text/plain": [
       "            cigsPerDay     totChol       BMI  heartRate    glucose  \\\n",
       "cigsPerDay  142.207927  -16.279119 -4.388908   9.580659 -15.689643   \n",
       "totChol     -16.279119 1990.194284 21.701375  50.563227  49.970562   \n",
       "BMI          -4.388908   21.701375 16.529093   3.484747   8.557331   \n",
       "heartRate     9.580659   50.563227  3.484747 142.955074  28.433023   \n",
       "glucose     -15.689643   49.970562  8.557331  28.433023 570.361071   \n",
       "cigsPerDay  142.207927  -16.279119 -4.388908   9.580659 -15.689643   \n",
       "totChol     -16.279119 1990.194284 21.701375  50.563227  49.970562   \n",
       "BMI          -4.388908   21.701375 16.529093   3.484747   8.557331   \n",
       "heartRate     9.580659   50.563227  3.484747 142.955074  28.433023   \n",
       "glucose     -15.689643   49.970562  8.557331  28.433023 570.361071   \n",
       "\n",
       "            cigsPerDay     totChol       BMI  heartRate    glucose  \n",
       "cigsPerDay  142.207927  -16.279119 -4.388908   9.580659 -15.689643  \n",
       "totChol     -16.279119 1990.194284 21.701375  50.563227  49.970562  \n",
       "BMI          -4.388908   21.701375 16.529093   3.484747   8.557331  \n",
       "heartRate     9.580659   50.563227  3.484747 142.955074  28.433023  \n",
       "glucose     -15.689643   49.970562  8.557331  28.433023 570.361071  \n",
       "cigsPerDay  142.207927  -16.279119 -4.388908   9.580659 -15.689643  \n",
       "totChol     -16.279119 1990.194284 21.701375  50.563227  49.970562  \n",
       "BMI          -4.388908   21.701375 16.529093   3.484747   8.557331  \n",
       "heartRate     9.580659   50.563227  3.484747 142.955074  28.433023  \n",
       "glucose     -15.689643   49.970562  8.557331  28.433023 570.361071  "
      ]
     },
     "execution_count": 652,
     "metadata": {},
     "output_type": "execute_result"
    }
   ],
   "source": [
    "df_heart[['cigsPerDay','BPMeds','totChol','BMI','heartRate','glucose',\n",
    "      'cigsPerDay','BPMeds','totChol','BMI','heartRate','glucose']].cov()"
   ]
  },
  {
   "cell_type": "code",
   "execution_count": 653,
   "metadata": {},
   "outputs": [
    {
     "data": {
      "text/plain": [
       "<matplotlib.axes._subplots.AxesSubplot at 0x1c1cfc4dd8>"
      ]
     },
     "execution_count": 653,
     "metadata": {},
     "output_type": "execute_result"
    },
    {
     "data": {
      "image/png": "[encoded data removed]",
      "text/plain": [
       "<matplotlib.figure.Figure at 0x1c1bbf25f8>"
      ]
     },
     "metadata": {},
     "output_type": "display_data"
    }
   ],
   "source": [
    "plt.figure(figsize=(12,12))\n",
    "sns.heatmap(df_heart[['cigsPerDay','BPMeds','totChol','BMI','heartRate','glucose',\n",
    "      'cigsPerDay','BPMeds','totChol','BMI','heartRate','glucose']].corr(),annot=True)\n",
    "    "
   ]
  },
  {
   "cell_type": "code",
   "execution_count": 654,
   "metadata": {
    "execution": {
     "iopub.execute_input": "2022-09-15T19:00:40.203794Z",
     "iopub.status.busy": "2022-09-15T19:00:40.202766Z",
     "iopub.status.idle": "2022-09-15T19:00:40.219566Z",
     "shell.execute_reply": "2022-09-15T19:00:40.218501Z",
     "shell.execute_reply.started": "2022-09-15T19:00:40.203755Z"
    }
   },
   "outputs": [
    {
     "data": {
      "text/html": [
       "<div>\n",
       "<style scoped>\n",
       "    .dataframe tbody tr th:only-of-type {\n",
       "        vertical-align: middle;\n",
       "    }\n",
       "\n",
       "    .dataframe tbody tr th {\n",
       "        vertical-align: top;\n",
       "    }\n",
       "\n",
       "    .dataframe thead th {\n",
       "        text-align: right;\n",
       "    }\n",
       "</style>\n",
       "<table border=\"1\" class=\"dataframe\">\n",
       "  <thead>\n",
       "    <tr style=\"text-align: right;\">\n",
       "      <th></th>\n",
       "      <th>male</th>\n",
       "      <th>age</th>\n",
       "      <th>currentSmoker</th>\n",
       "      <th>cigsPerDay</th>\n",
       "      <th>BPMeds</th>\n",
       "      <th>prevalentStroke</th>\n",
       "      <th>prevalentHyp</th>\n",
       "      <th>diabetes</th>\n",
       "      <th>totChol</th>\n",
       "      <th>sysBP</th>\n",
       "      <th>diaBP</th>\n",
       "      <th>BMI</th>\n",
       "      <th>heartRate</th>\n",
       "      <th>glucose</th>\n",
       "      <th>CVD</th>\n",
       "    </tr>\n",
       "  </thead>\n",
       "  <tbody>\n",
       "    <tr>\n",
       "      <th>0</th>\n",
       "      <td>1</td>\n",
       "      <td>39</td>\n",
       "      <td>0</td>\n",
       "      <td>0.000000</td>\n",
       "      <td>0.000000</td>\n",
       "      <td>0</td>\n",
       "      <td>0</td>\n",
       "      <td>0</td>\n",
       "      <td>195.000000</td>\n",
       "      <td>106.000000</td>\n",
       "      <td>70.000000</td>\n",
       "      <td>26.970000</td>\n",
       "      <td>80.000000</td>\n",
       "      <td>77.000000</td>\n",
       "      <td>0</td>\n",
       "    </tr>\n",
       "    <tr>\n",
       "      <th>1</th>\n",
       "      <td>0</td>\n",
       "      <td>46</td>\n",
       "      <td>0</td>\n",
       "      <td>0.000000</td>\n",
       "      <td>0.000000</td>\n",
       "      <td>0</td>\n",
       "      <td>0</td>\n",
       "      <td>0</td>\n",
       "      <td>250.000000</td>\n",
       "      <td>121.000000</td>\n",
       "      <td>81.000000</td>\n",
       "      <td>28.730000</td>\n",
       "      <td>95.000000</td>\n",
       "      <td>76.000000</td>\n",
       "      <td>0</td>\n",
       "    </tr>\n",
       "    <tr>\n",
       "      <th>2</th>\n",
       "      <td>1</td>\n",
       "      <td>48</td>\n",
       "      <td>1</td>\n",
       "      <td>20.000000</td>\n",
       "      <td>0.000000</td>\n",
       "      <td>0</td>\n",
       "      <td>0</td>\n",
       "      <td>0</td>\n",
       "      <td>245.000000</td>\n",
       "      <td>127.500000</td>\n",
       "      <td>80.000000</td>\n",
       "      <td>25.340000</td>\n",
       "      <td>75.000000</td>\n",
       "      <td>70.000000</td>\n",
       "      <td>0</td>\n",
       "    </tr>\n",
       "    <tr>\n",
       "      <th>3</th>\n",
       "      <td>0</td>\n",
       "      <td>61</td>\n",
       "      <td>1</td>\n",
       "      <td>30.000000</td>\n",
       "      <td>0.000000</td>\n",
       "      <td>0</td>\n",
       "      <td>1</td>\n",
       "      <td>0</td>\n",
       "      <td>225.000000</td>\n",
       "      <td>150.000000</td>\n",
       "      <td>95.000000</td>\n",
       "      <td>28.580000</td>\n",
       "      <td>65.000000</td>\n",
       "      <td>103.000000</td>\n",
       "      <td>1</td>\n",
       "    </tr>\n",
       "    <tr>\n",
       "      <th>4</th>\n",
       "      <td>0</td>\n",
       "      <td>46</td>\n",
       "      <td>1</td>\n",
       "      <td>23.000000</td>\n",
       "      <td>0.000000</td>\n",
       "      <td>0</td>\n",
       "      <td>0</td>\n",
       "      <td>0</td>\n",
       "      <td>285.000000</td>\n",
       "      <td>130.000000</td>\n",
       "      <td>84.000000</td>\n",
       "      <td>23.100000</td>\n",
       "      <td>85.000000</td>\n",
       "      <td>85.000000</td>\n",
       "      <td>0</td>\n",
       "    </tr>\n",
       "    <tr>\n",
       "      <th>5</th>\n",
       "      <td>0</td>\n",
       "      <td>43</td>\n",
       "      <td>0</td>\n",
       "      <td>0.000000</td>\n",
       "      <td>0.000000</td>\n",
       "      <td>0</td>\n",
       "      <td>1</td>\n",
       "      <td>0</td>\n",
       "      <td>228.000000</td>\n",
       "      <td>180.000000</td>\n",
       "      <td>110.000000</td>\n",
       "      <td>30.300000</td>\n",
       "      <td>77.000000</td>\n",
       "      <td>99.000000</td>\n",
       "      <td>0</td>\n",
       "    </tr>\n",
       "    <tr>\n",
       "      <th>6</th>\n",
       "      <td>0</td>\n",
       "      <td>63</td>\n",
       "      <td>0</td>\n",
       "      <td>0.000000</td>\n",
       "      <td>0.000000</td>\n",
       "      <td>0</td>\n",
       "      <td>0</td>\n",
       "      <td>0</td>\n",
       "      <td>205.000000</td>\n",
       "      <td>138.000000</td>\n",
       "      <td>71.000000</td>\n",
       "      <td>33.110000</td>\n",
       "      <td>60.000000</td>\n",
       "      <td>85.000000</td>\n",
       "      <td>1</td>\n",
       "    </tr>\n",
       "    <tr>\n",
       "      <th>7</th>\n",
       "      <td>0</td>\n",
       "      <td>45</td>\n",
       "      <td>1</td>\n",
       "      <td>20.000000</td>\n",
       "      <td>0.000000</td>\n",
       "      <td>0</td>\n",
       "      <td>0</td>\n",
       "      <td>0</td>\n",
       "      <td>313.000000</td>\n",
       "      <td>100.000000</td>\n",
       "      <td>71.000000</td>\n",
       "      <td>21.680000</td>\n",
       "      <td>79.000000</td>\n",
       "      <td>78.000000</td>\n",
       "      <td>0</td>\n",
       "    </tr>\n",
       "    <tr>\n",
       "      <th>8</th>\n",
       "      <td>1</td>\n",
       "      <td>52</td>\n",
       "      <td>0</td>\n",
       "      <td>0.000000</td>\n",
       "      <td>0.000000</td>\n",
       "      <td>0</td>\n",
       "      <td>1</td>\n",
       "      <td>0</td>\n",
       "      <td>260.000000</td>\n",
       "      <td>141.500000</td>\n",
       "      <td>89.000000</td>\n",
       "      <td>26.360000</td>\n",
       "      <td>76.000000</td>\n",
       "      <td>79.000000</td>\n",
       "      <td>0</td>\n",
       "    </tr>\n",
       "    <tr>\n",
       "      <th>9</th>\n",
       "      <td>1</td>\n",
       "      <td>43</td>\n",
       "      <td>1</td>\n",
       "      <td>30.000000</td>\n",
       "      <td>0.000000</td>\n",
       "      <td>0</td>\n",
       "      <td>1</td>\n",
       "      <td>0</td>\n",
       "      <td>225.000000</td>\n",
       "      <td>162.000000</td>\n",
       "      <td>107.000000</td>\n",
       "      <td>23.610000</td>\n",
       "      <td>93.000000</td>\n",
       "      <td>88.000000</td>\n",
       "      <td>0</td>\n",
       "    </tr>\n",
       "  </tbody>\n",
       "</table>\n",
       "</div>"
      ],
      "text/plain": [
       "  male  age currentSmoker  cigsPerDay   BPMeds prevalentStroke prevalentHyp  \\\n",
       "0    1   39             0    0.000000 0.000000               0            0   \n",
       "1    0   46             0    0.000000 0.000000               0            0   \n",
       "2    1   48             1   20.000000 0.000000               0            0   \n",
       "3    0   61             1   30.000000 0.000000               0            1   \n",
       "4    0   46             1   23.000000 0.000000               0            0   \n",
       "5    0   43             0    0.000000 0.000000               0            1   \n",
       "6    0   63             0    0.000000 0.000000               0            0   \n",
       "7    0   45             1   20.000000 0.000000               0            0   \n",
       "8    1   52             0    0.000000 0.000000               0            1   \n",
       "9    1   43             1   30.000000 0.000000               0            1   \n",
       "\n",
       "  diabetes    totChol      sysBP      diaBP       BMI  heartRate    glucose  \\\n",
       "0        0 195.000000 106.000000  70.000000 26.970000  80.000000  77.000000   \n",
       "1        0 250.000000 121.000000  81.000000 28.730000  95.000000  76.000000   \n",
       "2        0 245.000000 127.500000  80.000000 25.340000  75.000000  70.000000   \n",
       "3        0 225.000000 150.000000  95.000000 28.580000  65.000000 103.000000   \n",
       "4        0 285.000000 130.000000  84.000000 23.100000  85.000000  85.000000   \n",
       "5        0 228.000000 180.000000 110.000000 30.300000  77.000000  99.000000   \n",
       "6        0 205.000000 138.000000  71.000000 33.110000  60.000000  85.000000   \n",
       "7        0 313.000000 100.000000  71.000000 21.680000  79.000000  78.000000   \n",
       "8        0 260.000000 141.500000  89.000000 26.360000  76.000000  79.000000   \n",
       "9        0 225.000000 162.000000 107.000000 23.610000  93.000000  88.000000   \n",
       "\n",
       "   CVD  \n",
       "0    0  \n",
       "1    0  \n",
       "2    0  \n",
       "3    1  \n",
       "4    0  \n",
       "5    0  \n",
       "6    1  \n",
       "7    0  \n",
       "8    0  \n",
       "9    0  "
      ]
     },
     "execution_count": 654,
     "metadata": {},
     "output_type": "execute_result"
    }
   ],
   "source": [
    "df_heart.head(10)"
   ]
  },
  {
   "cell_type": "code",
   "execution_count": 655,
   "metadata": {
    "execution": {
     "iopub.execute_input": "2022-09-16T04:50:23.623542Z",
     "iopub.status.busy": "2022-09-16T04:50:23.623163Z",
     "iopub.status.idle": "2022-09-16T04:50:23.986073Z",
     "shell.execute_reply": "2022-09-16T04:50:23.984837Z",
     "shell.execute_reply.started": "2022-09-16T04:50:23.623511Z"
    }
   },
   "outputs": [
    {
     "data": {
      "text/plain": [
       "<matplotlib.axes._subplots.AxesSubplot at 0x1c1b19d940>"
      ]
     },
     "execution_count": 655,
     "metadata": {},
     "output_type": "execute_result"
    },
    {
     "data": {
      "image/png": "[encoded data removed]",
      "text/plain": [
       "<matplotlib.figure.Figure at 0x1c1ae47f60>"
      ]
     },
     "metadata": {},
     "output_type": "display_data"
    }
   ],
   "source": [
    "sns.heatmap(df_heart.isnull(), yticklabels=False, cmap=\"viridis\")"
   ]
  },
  {
   "cell_type": "markdown",
   "metadata": {
    "id": "3PBnzFnMwnhF"
   },
   "source": [
    "<a id=\"dummy\"></a>\n",
    "## 2.6 Dummy Encode the Categorical Variables"
   ]
  },
  {
   "cell_type": "markdown",
   "metadata": {
    "id": "Uh3IxBWxwnhG"
   },
   "source": [
    "#### Split the dependent and independent variables."
   ]
  },
  {
   "cell_type": "code",
   "execution_count": 656,
   "metadata": {
    "execution": {
     "iopub.execute_input": "2022-09-16T04:51:06.278530Z",
     "iopub.status.busy": "2022-09-16T04:51:06.277984Z",
     "iopub.status.idle": "2022-09-16T04:51:06.285811Z",
     "shell.execute_reply": "2022-09-16T04:51:06.284891Z",
     "shell.execute_reply.started": "2022-09-16T04:51:06.278485Z"
    },
    "id": "vAYfLBykwnhG"
   },
   "outputs": [],
   "source": [
    "# store the target variable 'CVD' in a dataframe 'df_target'\n",
    "df_target = df_heart['CVD']\n",
    "\n",
    "# store all the independent variables in a dataframe 'df_feature' \n",
    "# drop the column 'CVD' using drop()\n",
    "# 'axis = 1' drops the specified column\n",
    "df_feature = df_heart.drop('CVD', axis = 1)\n"
   ]
  },
  {
   "cell_type": "code",
   "execution_count": 657,
   "metadata": {
    "execution": {
     "iopub.execute_input": "2022-09-16T04:51:12.580150Z",
     "iopub.status.busy": "2022-09-16T04:51:12.579734Z",
     "iopub.status.idle": "2022-09-16T04:51:12.587903Z",
     "shell.execute_reply": "2022-09-16T04:51:12.586687Z",
     "shell.execute_reply.started": "2022-09-16T04:51:12.580102Z"
    }
   },
   "outputs": [
    {
     "data": {
      "text/plain": [
       "0    0\n",
       "1    0\n",
       "2    0\n",
       "3    1\n",
       "4    0\n",
       "Name: CVD, dtype: int64"
      ]
     },
     "execution_count": 657,
     "metadata": {},
     "output_type": "execute_result"
    }
   ],
   "source": [
    "df_target.head(5)"
   ]
  },
  {
   "cell_type": "code",
   "execution_count": 658,
   "metadata": {
    "execution": {
     "iopub.execute_input": "2022-09-16T04:51:16.441196Z",
     "iopub.status.busy": "2022-09-16T04:51:16.440752Z",
     "iopub.status.idle": "2022-09-16T04:51:16.458524Z",
     "shell.execute_reply": "2022-09-16T04:51:16.457318Z",
     "shell.execute_reply.started": "2022-09-16T04:51:16.441161Z"
    }
   },
   "outputs": [
    {
     "data": {
      "text/html": [
       "<div>\n",
       "<style scoped>\n",
       "    .dataframe tbody tr th:only-of-type {\n",
       "        vertical-align: middle;\n",
       "    }\n",
       "\n",
       "    .dataframe tbody tr th {\n",
       "        vertical-align: top;\n",
       "    }\n",
       "\n",
       "    .dataframe thead th {\n",
       "        text-align: right;\n",
       "    }\n",
       "</style>\n",
       "<table border=\"1\" class=\"dataframe\">\n",
       "  <thead>\n",
       "    <tr style=\"text-align: right;\">\n",
       "      <th></th>\n",
       "      <th>male</th>\n",
       "      <th>age</th>\n",
       "      <th>currentSmoker</th>\n",
       "      <th>cigsPerDay</th>\n",
       "      <th>BPMeds</th>\n",
       "      <th>prevalentStroke</th>\n",
       "      <th>prevalentHyp</th>\n",
       "      <th>diabetes</th>\n",
       "      <th>totChol</th>\n",
       "      <th>sysBP</th>\n",
       "      <th>diaBP</th>\n",
       "      <th>BMI</th>\n",
       "      <th>heartRate</th>\n",
       "      <th>glucose</th>\n",
       "    </tr>\n",
       "  </thead>\n",
       "  <tbody>\n",
       "    <tr>\n",
       "      <th>0</th>\n",
       "      <td>1</td>\n",
       "      <td>39</td>\n",
       "      <td>0</td>\n",
       "      <td>0.000000</td>\n",
       "      <td>0.000000</td>\n",
       "      <td>0</td>\n",
       "      <td>0</td>\n",
       "      <td>0</td>\n",
       "      <td>195.000000</td>\n",
       "      <td>106.000000</td>\n",
       "      <td>70.000000</td>\n",
       "      <td>26.970000</td>\n",
       "      <td>80.000000</td>\n",
       "      <td>77.000000</td>\n",
       "    </tr>\n",
       "    <tr>\n",
       "      <th>1</th>\n",
       "      <td>0</td>\n",
       "      <td>46</td>\n",
       "      <td>0</td>\n",
       "      <td>0.000000</td>\n",
       "      <td>0.000000</td>\n",
       "      <td>0</td>\n",
       "      <td>0</td>\n",
       "      <td>0</td>\n",
       "      <td>250.000000</td>\n",
       "      <td>121.000000</td>\n",
       "      <td>81.000000</td>\n",
       "      <td>28.730000</td>\n",
       "      <td>95.000000</td>\n",
       "      <td>76.000000</td>\n",
       "    </tr>\n",
       "    <tr>\n",
       "      <th>2</th>\n",
       "      <td>1</td>\n",
       "      <td>48</td>\n",
       "      <td>1</td>\n",
       "      <td>20.000000</td>\n",
       "      <td>0.000000</td>\n",
       "      <td>0</td>\n",
       "      <td>0</td>\n",
       "      <td>0</td>\n",
       "      <td>245.000000</td>\n",
       "      <td>127.500000</td>\n",
       "      <td>80.000000</td>\n",
       "      <td>25.340000</td>\n",
       "      <td>75.000000</td>\n",
       "      <td>70.000000</td>\n",
       "    </tr>\n",
       "    <tr>\n",
       "      <th>3</th>\n",
       "      <td>0</td>\n",
       "      <td>61</td>\n",
       "      <td>1</td>\n",
       "      <td>30.000000</td>\n",
       "      <td>0.000000</td>\n",
       "      <td>0</td>\n",
       "      <td>1</td>\n",
       "      <td>0</td>\n",
       "      <td>225.000000</td>\n",
       "      <td>150.000000</td>\n",
       "      <td>95.000000</td>\n",
       "      <td>28.580000</td>\n",
       "      <td>65.000000</td>\n",
       "      <td>103.000000</td>\n",
       "    </tr>\n",
       "    <tr>\n",
       "      <th>4</th>\n",
       "      <td>0</td>\n",
       "      <td>46</td>\n",
       "      <td>1</td>\n",
       "      <td>23.000000</td>\n",
       "      <td>0.000000</td>\n",
       "      <td>0</td>\n",
       "      <td>0</td>\n",
       "      <td>0</td>\n",
       "      <td>285.000000</td>\n",
       "      <td>130.000000</td>\n",
       "      <td>84.000000</td>\n",
       "      <td>23.100000</td>\n",
       "      <td>85.000000</td>\n",
       "      <td>85.000000</td>\n",
       "    </tr>\n",
       "  </tbody>\n",
       "</table>\n",
       "</div>"
      ],
      "text/plain": [
       "  male  age currentSmoker  cigsPerDay   BPMeds prevalentStroke prevalentHyp  \\\n",
       "0    1   39             0    0.000000 0.000000               0            0   \n",
       "1    0   46             0    0.000000 0.000000               0            0   \n",
       "2    1   48             1   20.000000 0.000000               0            0   \n",
       "3    0   61             1   30.000000 0.000000               0            1   \n",
       "4    0   46             1   23.000000 0.000000               0            0   \n",
       "\n",
       "  diabetes    totChol      sysBP     diaBP       BMI  heartRate    glucose  \n",
       "0        0 195.000000 106.000000 70.000000 26.970000  80.000000  77.000000  \n",
       "1        0 250.000000 121.000000 81.000000 28.730000  95.000000  76.000000  \n",
       "2        0 245.000000 127.500000 80.000000 25.340000  75.000000  70.000000  \n",
       "3        0 225.000000 150.000000 95.000000 28.580000  65.000000 103.000000  \n",
       "4        0 285.000000 130.000000 84.000000 23.100000  85.000000  85.000000  "
      ]
     },
     "execution_count": 658,
     "metadata": {},
     "output_type": "execute_result"
    }
   ],
   "source": [
    "df_feature.head(5)"
   ]
  },
  {
   "cell_type": "markdown",
   "metadata": {
    "id": "3KxNvXGWwnhG"
   },
   "source": [
    "#### Filter numerical and categorical variables."
   ]
  },
  {
   "cell_type": "code",
   "execution_count": 659,
   "metadata": {
    "execution": {
     "iopub.execute_input": "2022-09-16T04:51:30.880573Z",
     "iopub.status.busy": "2022-09-16T04:51:30.880161Z",
     "iopub.status.idle": "2022-09-16T04:51:30.891403Z",
     "shell.execute_reply": "2022-09-16T04:51:30.890222Z",
     "shell.execute_reply.started": "2022-09-16T04:51:30.880538Z"
    },
    "id": "ObYox9zTwnhH"
   },
   "outputs": [
    {
     "data": {
      "text/plain": [
       "Index(['age', 'cigsPerDay', 'totChol', 'sysBP', 'diaBP', 'BMI', 'heartRate',\n",
       "       'glucose'],\n",
       "      dtype='object')"
      ]
     },
     "execution_count": 659,
     "metadata": {},
     "output_type": "execute_result"
    }
   ],
   "source": [
    "# filter the numerical features in the dataset\n",
    "# 'select_dtypes' is used to select the variables with given data type\n",
    "# 'include = [np.number]' will include all the numerical variables\n",
    "df_num = df_feature.select_dtypes(include = [np.number])\n",
    "\n",
    "# display numerical features\n",
    "df_num.columns"
   ]
  },
  {
   "cell_type": "code",
   "execution_count": 660,
   "metadata": {
    "execution": {
     "iopub.execute_input": "2022-09-16T04:51:39.352462Z",
     "iopub.status.busy": "2022-09-16T04:51:39.351639Z",
     "iopub.status.idle": "2022-09-16T04:51:39.362535Z",
     "shell.execute_reply": "2022-09-16T04:51:39.361194Z",
     "shell.execute_reply.started": "2022-09-16T04:51:39.352423Z"
    }
   },
   "outputs": [
    {
     "data": {
      "text/plain": [
       "Index(['male', 'currentSmoker', 'BPMeds', 'prevalentStroke', 'prevalentHyp',\n",
       "       'diabetes'],\n",
       "      dtype='object')"
      ]
     },
     "execution_count": 660,
     "metadata": {},
     "output_type": "execute_result"
    }
   ],
   "source": [
    "# filter the categorical features in the dataset\n",
    "# 'select_dtypes' is used to select the variables with given data type\n",
    "# 'include = [np.object]' will include all the categorical variables\n",
    "df_cat = df_feature.select_dtypes(include = [np.object])\n",
    "\n",
    "# display categorical features\n",
    "df_cat.columns"
   ]
  },
  {
   "cell_type": "markdown",
   "metadata": {
    "id": "e2RPQ67gwnhH"
   },
   "source": [
    "The logistic regression method fails in presence of categorical variables. To overcome this we use (n-1) dummy encoding. \n",
    "\n",
    "**Encode the each categorical variable and create (n-1) dummy variables for n categories of the variable.**"
   ]
  },
  {
   "cell_type": "code",
   "execution_count": 661,
   "metadata": {
    "execution": {
     "iopub.execute_input": "2022-09-16T04:51:44.917476Z",
     "iopub.status.busy": "2022-09-16T04:51:44.917057Z",
     "iopub.status.idle": "2022-09-16T04:51:44.931515Z",
     "shell.execute_reply": "2022-09-16T04:51:44.930457Z",
     "shell.execute_reply.started": "2022-09-16T04:51:44.917442Z"
    },
    "id": "11iU1iYNwnhI"
   },
   "outputs": [],
   "source": [
    "# use 'get_dummies' from pandas to create dummy variables\n",
    "# use 'drop_first' to create (n-1) dummy variables\n",
    "dummy_var = pd.get_dummies(data = df_cat, drop_first = True)"
   ]
  },
  {
   "cell_type": "markdown",
   "metadata": {
    "id": "dh8Xq3CBwnhK"
   },
   "source": [
    "<a id=\"split\"></a>\n",
    "## 2.7 Train-Test Split"
   ]
  },
  {
   "cell_type": "markdown",
   "metadata": {
    "id": "c0MjSpWHwnhK"
   },
   "source": [
    "Before applying various classification techniques to predict the patient having cardiovascular disease or not, let us split the dataset in train and test set."
   ]
  },
  {
   "cell_type": "code",
   "execution_count": 662,
   "metadata": {
    "execution": {
     "iopub.execute_input": "2022-09-16T04:52:12.654790Z",
     "iopub.status.busy": "2022-09-16T04:52:12.654312Z",
     "iopub.status.idle": "2022-09-16T04:52:12.673063Z",
     "shell.execute_reply": "2022-09-16T04:52:12.671866Z",
     "shell.execute_reply.started": "2022-09-16T04:52:12.654748Z"
    },
    "id": "Q0bPkyePwnhK"
   },
   "outputs": [
    {
     "name": "stdout",
     "output_type": "stream",
     "text": [
      "Train set: (2625, 6) (2625,)\n",
      "Test set: (1126, 6) (1126,)\n"
     ]
    }
   ],
   "source": [
    "X = np.asarray(df_heart[['age', 'male', 'cigsPerDay','totChol', 'sysBP', 'glucose']])\n",
    "y = np.asarray(df_heart['CVD'])\n",
    "\n",
    "# normalization of the dataset\n",
    "X = preprocessing.StandardScaler().fit(X).transform(X)\n",
    "\n",
    "# Train-and-Test -Split\n",
    "from sklearn.model_selection import train_test_split\n",
    "X_train, X_test, y_train, y_test = train_test_split(X, y, test_size = 0.3, random_state = 4)\n",
    "print ('Train set:', X_train.shape, y_train.shape)\n",
    "print ('Test set:', X_test.shape, y_test.shape)\n",
    "\n"
   ]
  },
  {
   "cell_type": "code",
   "execution_count": 663,
   "metadata": {},
   "outputs": [
    {
     "name": "stdout",
     "output_type": "stream",
     "text": [
      "Optimization terminated successfully.\n",
      "         Current function value: 0.666279\n",
      "         Iterations 5\n",
      "                         Results: Logit\n",
      "================================================================\n",
      "Model:              Logit            No. Iterations:   5.0000   \n",
      "Dependent Variable: y                Pseudo R-squared: -0.568   \n",
      "Date:               2022-09-18 08:54 AIC:              3509.9659\n",
      "No. Observations:   2625             BIC:              3545.2029\n",
      "Df Model:           5                Log-Likelihood:   -1749.0  \n",
      "Df Residuals:       2619             LL-Null:          -1115.2  \n",
      "Converged:          1.0000           Scale:            1.0000   \n",
      "-------------------------------------------------------------------\n",
      "        Coef.     Std.Err.      z       P>|z|      [0.025    0.975]\n",
      "-------------------------------------------------------------------\n",
      "x1      0.2824      0.0457    6.1755    0.0000     0.1928    0.3721\n",
      "x2      0.1473      0.0423    3.4804    0.0005     0.0643    0.2302\n",
      "x3      0.1644      0.0439    3.7417    0.0002     0.0783    0.2505\n",
      "x4      0.0352      0.0423    0.8331    0.4048    -0.0476    0.1181\n",
      "x5      0.1705      0.0448    3.8065    0.0001     0.0827    0.2584\n",
      "x6      0.1866      0.0513    3.6354    0.0003     0.0860    0.2873\n",
      "================================================================\n",
      "\n"
     ]
    }
   ],
   "source": [
    "# build the model on train data (X_train and y_train)\n",
    "# use fit() to fit the logistic regression model\n",
    "logreg = sm.Logit(y_train, X_train).fit()\n",
    "\n",
    "# print the summary of the model\n",
    "print(logreg.summary2())\n",
    "#result.summary2()"
   ]
  },
  {
   "cell_type": "markdown",
   "metadata": {
    "id": "exdwr-0QwnhI"
   },
   "source": [
    "<a id=\"scale\"></a>\n",
    "## 2.8 Scale the Data "
   ]
  },
  {
   "cell_type": "markdown",
   "metadata": {
    "id": "FFxgyLSRwnhI"
   },
   "source": [
    "Why should we scale the variables?"
   ]
  },
  {
   "cell_type": "code",
   "execution_count": 664,
   "metadata": {
    "execution": {
     "iopub.execute_input": "2022-09-16T04:51:56.534306Z",
     "iopub.status.busy": "2022-09-16T04:51:56.533883Z",
     "iopub.status.idle": "2022-09-16T04:51:56.547600Z",
     "shell.execute_reply": "2022-09-16T04:51:56.546225Z",
     "shell.execute_reply.started": "2022-09-16T04:51:56.534271Z"
    },
    "id": "4bzKCzahwnhI"
   },
   "outputs": [],
   "source": [
    "# initialize the standard scalar\n",
    "X_scaler = StandardScaler()\n",
    "\n",
    "# scale all the numerical columns\n",
    "# standardize all the columns of the dataframe 'df_num'\n",
    "num_scaled = X_scaler.fit_transform(df_num)\n",
    "\n",
    "# create a dataframe of scaled numerical variables\n",
    "# pass the required column names to the parameter 'columns'\n",
    "df_num_scaled = pd.DataFrame(num_scaled, columns = df_num.columns)"
   ]
  },
  {
   "cell_type": "markdown",
   "metadata": {
    "id": "Q6teJCOywnhJ"
   },
   "source": [
    "#### Concatenate scaled numerical and dummy encoded categorical variables."
   ]
  },
  {
   "cell_type": "code",
   "execution_count": 665,
   "metadata": {
    "execution": {
     "iopub.execute_input": "2022-09-16T04:52:01.871077Z",
     "iopub.status.busy": "2022-09-16T04:52:01.870649Z",
     "iopub.status.idle": "2022-09-16T04:52:01.892397Z",
     "shell.execute_reply": "2022-09-16T04:52:01.891227Z",
     "shell.execute_reply.started": "2022-09-16T04:52:01.871043Z"
    },
    "id": "7a-RMgiewnhJ"
   },
   "outputs": [
    {
     "data": {
      "text/html": [
       "<div>\n",
       "<style scoped>\n",
       "    .dataframe tbody tr th:only-of-type {\n",
       "        vertical-align: middle;\n",
       "    }\n",
       "\n",
       "    .dataframe tbody tr th {\n",
       "        vertical-align: top;\n",
       "    }\n",
       "\n",
       "    .dataframe thead th {\n",
       "        text-align: right;\n",
       "    }\n",
       "</style>\n",
       "<table border=\"1\" class=\"dataframe\">\n",
       "  <thead>\n",
       "    <tr style=\"text-align: right;\">\n",
       "      <th></th>\n",
       "      <th>age</th>\n",
       "      <th>cigsPerDay</th>\n",
       "      <th>totChol</th>\n",
       "      <th>sysBP</th>\n",
       "      <th>diaBP</th>\n",
       "      <th>BMI</th>\n",
       "      <th>heartRate</th>\n",
       "      <th>glucose</th>\n",
       "      <th>male_1</th>\n",
       "      <th>currentSmoker_1</th>\n",
       "      <th>BPMeds_1.0</th>\n",
       "      <th>prevalentStroke_1</th>\n",
       "      <th>prevalentHyp_1</th>\n",
       "      <th>diabetes_1</th>\n",
       "    </tr>\n",
       "  </thead>\n",
       "  <tbody>\n",
       "    <tr>\n",
       "      <th>0</th>\n",
       "      <td>-1.233910</td>\n",
       "      <td>-0.755527</td>\n",
       "      <td>-0.939971</td>\n",
       "      <td>-1.196195</td>\n",
       "      <td>-1.084431</td>\n",
       "      <td>0.285780</td>\n",
       "      <td>0.359347</td>\n",
       "      <td>-0.204365</td>\n",
       "      <td>1.000000</td>\n",
       "      <td>0.000000</td>\n",
       "      <td>0.000000</td>\n",
       "      <td>0.000000</td>\n",
       "      <td>0.000000</td>\n",
       "      <td>0.000000</td>\n",
       "    </tr>\n",
       "    <tr>\n",
       "      <th>1</th>\n",
       "      <td>-0.417017</td>\n",
       "      <td>-0.755527</td>\n",
       "      <td>0.293057</td>\n",
       "      <td>-0.515725</td>\n",
       "      <td>-0.162478</td>\n",
       "      <td>0.718738</td>\n",
       "      <td>1.614075</td>\n",
       "      <td>-0.246242</td>\n",
       "      <td>0.000000</td>\n",
       "      <td>0.000000</td>\n",
       "      <td>0.000000</td>\n",
       "      <td>0.000000</td>\n",
       "      <td>0.000000</td>\n",
       "      <td>0.000000</td>\n",
       "    </tr>\n",
       "    <tr>\n",
       "      <th>2</th>\n",
       "      <td>-0.183620</td>\n",
       "      <td>0.921832</td>\n",
       "      <td>0.180963</td>\n",
       "      <td>-0.220855</td>\n",
       "      <td>-0.246291</td>\n",
       "      <td>-0.115199</td>\n",
       "      <td>-0.058895</td>\n",
       "      <td>-0.497509</td>\n",
       "      <td>1.000000</td>\n",
       "      <td>1.000000</td>\n",
       "      <td>0.000000</td>\n",
       "      <td>0.000000</td>\n",
       "      <td>0.000000</td>\n",
       "      <td>0.000000</td>\n",
       "    </tr>\n",
       "    <tr>\n",
       "      <th>3</th>\n",
       "      <td>1.333466</td>\n",
       "      <td>1.760511</td>\n",
       "      <td>-0.267411</td>\n",
       "      <td>0.799850</td>\n",
       "      <td>1.010918</td>\n",
       "      <td>0.681838</td>\n",
       "      <td>-0.895380</td>\n",
       "      <td>0.884456</td>\n",
       "      <td>0.000000</td>\n",
       "      <td>1.000000</td>\n",
       "      <td>0.000000</td>\n",
       "      <td>0.000000</td>\n",
       "      <td>1.000000</td>\n",
       "      <td>0.000000</td>\n",
       "    </tr>\n",
       "    <tr>\n",
       "      <th>4</th>\n",
       "      <td>-0.417017</td>\n",
       "      <td>1.173436</td>\n",
       "      <td>1.077711</td>\n",
       "      <td>-0.107443</td>\n",
       "      <td>0.088964</td>\n",
       "      <td>-0.666236</td>\n",
       "      <td>0.777590</td>\n",
       "      <td>0.130657</td>\n",
       "      <td>0.000000</td>\n",
       "      <td>1.000000</td>\n",
       "      <td>0.000000</td>\n",
       "      <td>0.000000</td>\n",
       "      <td>0.000000</td>\n",
       "      <td>0.000000</td>\n",
       "    </tr>\n",
       "  </tbody>\n",
       "</table>\n",
       "</div>"
      ],
      "text/plain": [
       "        age  cigsPerDay   totChol     sysBP     diaBP       BMI  heartRate  \\\n",
       "0 -1.233910   -0.755527 -0.939971 -1.196195 -1.084431  0.285780   0.359347   \n",
       "1 -0.417017   -0.755527  0.293057 -0.515725 -0.162478  0.718738   1.614075   \n",
       "2 -0.183620    0.921832  0.180963 -0.220855 -0.246291 -0.115199  -0.058895   \n",
       "3  1.333466    1.760511 -0.267411  0.799850  1.010918  0.681838  -0.895380   \n",
       "4 -0.417017    1.173436  1.077711 -0.107443  0.088964 -0.666236   0.777590   \n",
       "\n",
       "    glucose   male_1  currentSmoker_1  BPMeds_1.0  prevalentStroke_1  \\\n",
       "0 -0.204365 1.000000         0.000000    0.000000           0.000000   \n",
       "1 -0.246242 0.000000         0.000000    0.000000           0.000000   \n",
       "2 -0.497509 1.000000         1.000000    0.000000           0.000000   \n",
       "3  0.884456 0.000000         1.000000    0.000000           0.000000   \n",
       "4  0.130657 0.000000         1.000000    0.000000           0.000000   \n",
       "\n",
       "   prevalentHyp_1  diabetes_1  \n",
       "0        0.000000    0.000000  \n",
       "1        0.000000    0.000000  \n",
       "2        0.000000    0.000000  \n",
       "3        1.000000    0.000000  \n",
       "4        0.000000    0.000000  "
      ]
     },
     "execution_count": 665,
     "metadata": {},
     "output_type": "execute_result"
    }
   ],
   "source": [
    "# concat the dummy variables with numeric features to create a dataframe of all independent variables\n",
    "# 'axis=1' concats the dataframes along columns \n",
    "X = pd.concat([df_num_scaled, dummy_var], axis = 1)\n",
    "\n",
    "# display first five observations\n",
    "X.head()"
   ]
  },
  {
   "cell_type": "markdown",
   "metadata": {
    "id": "9U0DovMVwnhL"
   },
   "source": [
    "<a id=\"logit\"></a>\n",
    "# 3. Logistic Regression (Full Model)"
   ]
  },
  {
   "cell_type": "markdown",
   "metadata": {
    "id": "qCOswouSwnhL"
   },
   "source": [
    "#### Build a full logistic model on a training dataset."
   ]
  },
  {
   "cell_type": "code",
   "execution_count": 666,
   "metadata": {
    "execution": {
     "iopub.execute_input": "2022-09-16T04:52:29.875351Z",
     "iopub.status.busy": "2022-09-16T04:52:29.874936Z",
     "iopub.status.idle": "2022-09-16T04:52:30.039201Z",
     "shell.execute_reply": "2022-09-16T04:52:30.037553Z",
     "shell.execute_reply.started": "2022-09-16T04:52:29.875310Z"
    },
    "id": "AZ6eUgAlwnhL"
   },
   "outputs": [
    {
     "name": "stdout",
     "output_type": "stream",
     "text": [
      "Optimization terminated successfully.\n",
      "         Current function value: 0.666279\n",
      "         Iterations 5\n",
      "<statsmodels.discrete.discrete_model.BinaryResultsWrapper object at 0x1c1a680630>\n",
      "                         Results: Logit\n",
      "================================================================\n",
      "Model:              Logit            No. Iterations:   5.0000   \n",
      "Dependent Variable: y                Pseudo R-squared: -0.568   \n",
      "Date:               2022-09-18 08:54 AIC:              3509.9659\n",
      "No. Observations:   2625             BIC:              3545.2029\n",
      "Df Model:           5                Log-Likelihood:   -1749.0  \n",
      "Df Residuals:       2619             LL-Null:          -1115.2  \n",
      "Converged:          1.0000           Scale:            1.0000   \n",
      "-------------------------------------------------------------------\n",
      "        Coef.     Std.Err.      z       P>|z|      [0.025    0.975]\n",
      "-------------------------------------------------------------------\n",
      "x1      0.2824      0.0457    6.1755    0.0000     0.1928    0.3721\n",
      "x2      0.1473      0.0423    3.4804    0.0005     0.0643    0.2302\n",
      "x3      0.1644      0.0439    3.7417    0.0002     0.0783    0.2505\n",
      "x4      0.0352      0.0423    0.8331    0.4048    -0.0476    0.1181\n",
      "x5      0.1705      0.0448    3.8065    0.0001     0.0827    0.2584\n",
      "x6      0.1866      0.0513    3.6354    0.0003     0.0860    0.2873\n",
      "================================================================\n",
      "\n"
     ]
    }
   ],
   "source": [
    "# build the model on train data (X_train and y_train)\n",
    "# use fit() to fit the logistic regression model\n",
    "logreg = sm.Logit(y_train, X_train).fit()\n",
    "print(logreg)\n",
    "# print the summary of the model\n",
    "print(logreg.summary2())\n",
    "#result.summary2()\n",
    "\n"
   ]
  },
  {
   "cell_type": "code",
   "execution_count": 667,
   "metadata": {},
   "outputs": [
    {
     "name": "stdout",
     "output_type": "stream",
     "text": [
      "LogisticRegression(C=1.0, class_weight=None, dual=False, fit_intercept=True,\n",
      "          intercept_scaling=1, max_iter=100, multi_class='ovr', n_jobs=1,\n",
      "          penalty='l2', random_state=None, solver='liblinear', tol=0.0001,\n",
      "          verbose=0, warm_start=False)\n",
      "\n",
      "Accuracy of the model in jaccard similarity score is =  0.8490230905861457\n"
     ]
    }
   ],
   "source": [
    "from sklearn.linear_model import LogisticRegression\n",
    "logreg = LogisticRegression()\n",
    "logreg.fit(X_train, y_train)\n",
    "y_pred = logreg.predict(X_test)\n",
    "print(logreg)\n",
    " \n",
    "# Evaluation and accuracy\n",
    "from sklearn.metrics import jaccard_similarity_score\n",
    "print('')\n",
    "print('Accuracy of the model in jaccard similarity score is = ',\n",
    "      jaccard_similarity_score(y_test, y_pred))"
   ]
  },
  {
   "cell_type": "code",
   "execution_count": 668,
   "metadata": {},
   "outputs": [
    {
     "name": "stdout",
     "output_type": "stream",
     "text": [
      "Optimization terminated successfully.\n",
      "         Current function value: 0.666279\n",
      "         Iterations 5\n",
      "                         Results: Logit\n",
      "================================================================\n",
      "Model:              Logit            No. Iterations:   5.0000   \n",
      "Dependent Variable: y                Pseudo R-squared: -0.568   \n",
      "Date:               2022-09-18 08:54 AIC:              3509.9659\n",
      "No. Observations:   2625             BIC:              3545.2029\n",
      "Df Model:           5                Log-Likelihood:   -1749.0  \n",
      "Df Residuals:       2619             LL-Null:          -1115.2  \n",
      "Converged:          1.0000           Scale:            1.0000   \n",
      "-------------------------------------------------------------------\n",
      "        Coef.     Std.Err.      z       P>|z|      [0.025    0.975]\n",
      "-------------------------------------------------------------------\n",
      "x1      0.2824      0.0457    6.1755    0.0000     0.1928    0.3721\n",
      "x2      0.1473      0.0423    3.4804    0.0005     0.0643    0.2302\n",
      "x3      0.1644      0.0439    3.7417    0.0002     0.0783    0.2505\n",
      "x4      0.0352      0.0423    0.8331    0.4048    -0.0476    0.1181\n",
      "x5      0.1705      0.0448    3.8065    0.0001     0.0827    0.2584\n",
      "x6      0.1866      0.0513    3.6354    0.0003     0.0860    0.2873\n",
      "================================================================\n",
      "\n"
     ]
    }
   ],
   "source": [
    "# build the model on train data (X_train and y_train)\n",
    "# use fit() to fit the logistic regression model\n",
    "logreg = sm.Logit(y_train, X_train).fit()\n",
    "\n",
    "# print the summary of the model\n",
    "print(logreg.summary2())\n",
    "#result.summary2()"
   ]
  },
  {
   "cell_type": "markdown",
   "metadata": {},
   "source": [
    "**Interpretation:** The `Pseudo R-squ.` obtained from the above model summary is the value of `McFadden's R-squared`. This value can be obtained from the formula:\n",
    "\n",
    "<p style='text-indent:25em'> <strong> McFadden's R-squared = $ 1 - \\frac{Log-Likelihood}{LL-Null} $</strong> </p>\n",
    "\n",
    "Where,<br>\n",
    "Log-Likelihood: It is the maximum value of the log-likelihood function<br>\n",
    "LL-Null: It is the maximum value of the log-likelihood function for the model containing only the intercept \n",
    "\n",
    "The LLR p-value is less than 0.05, implies that the model is significant."
   ]
  },
  {
   "cell_type": "markdown",
   "metadata": {},
   "source": [
    "There are different types of `pseudo R-squared` such as `Cox & Snell R-squared`, `Nagelkerke R-squared` and so on.\n",
    "\n",
    "**Cox & Snell R-squared:** The convergence of the logistic model can be determined by the R-squared value. It is given by the formula:\n",
    "\n",
    "<p style='text-indent:25em'> <strong> Cox & Snell R-squared = $ 1 - (\\frac{L(M_{Intercept})}{L(M_{Full})})^{2/N} $</strong> </p>\n",
    "\n",
    "Where,<br> \n",
    "L(M): The conditional probability of target variable given the independent variables<br>\n",
    "N: Total number of observations\n",
    "\n",
    "**Note:** The maximum of Cox & Snell R-squared is always less than 1. It is equal to $(1 - (L(M_{Intercept})^{2/N})$\n",
    "\n",
    "\n",
    "\n",
    "**Nagelkerke R-squared:** It is defined as the ratio of Cox & Snell R-squared to the maximum of Cox & Snell R-squared. The formula is given as:\n",
    "\n",
    "<p style='text-indent:25em'> <strong>Nagelkerke  R-squared = $ \\frac{1 - (\\frac{L(M_{Intercept})}{L(M_{Full})})^{2/N}}{1 -  (L(M_{Intercept})^{2/N}} $</strong> </p>\n",
    "\n",
    "\n",
    "\n",
    "Thus, Nagelkerke R-squared can be equal to 1, if $L(M_{Full}) = 1$\n",
    "\n"
   ]
  },
  {
   "cell_type": "markdown",
   "metadata": {
    "id": "qpJRwujDwnhL"
   },
   "source": [
    "**Calculate the AIC (Akaike Information Criterion) value.**\n",
    "\n",
    "It is a relative measure of model evaluation. It gives a trade-off between model accuracy and model complexity."
   ]
  },
  {
   "cell_type": "code",
   "execution_count": 669,
   "metadata": {
    "execution": {
     "iopub.execute_input": "2022-09-16T04:52:40.864968Z",
     "iopub.status.busy": "2022-09-16T04:52:40.864558Z",
     "iopub.status.idle": "2022-09-16T04:52:40.870787Z",
     "shell.execute_reply": "2022-09-16T04:52:40.869353Z",
     "shell.execute_reply.started": "2022-09-16T04:52:40.864935Z"
    },
    "id": "RNRnc9HWwnhM"
   },
   "outputs": [
    {
     "name": "stdout",
     "output_type": "stream",
     "text": [
      "AIC: 3509.9658729101143\n"
     ]
    }
   ],
   "source": [
    "# 'aic' retuns the AIC value for the model\n",
    "print('AIC:', logreg.aic)"
   ]
  },
  {
   "cell_type": "markdown",
   "metadata": {
    "id": "evmTm9P6wnhM"
   },
   "source": [
    "We can use the AIC value to compare different models created on the same dataset."
   ]
  },
  {
   "cell_type": "markdown",
   "metadata": {
    "id": "KTA_bAcXwnhM"
   },
   "source": [
    "### Interpret the odds for each variable "
   ]
  },
  {
   "cell_type": "code",
   "execution_count": 670,
   "metadata": {
    "execution": {
     "iopub.execute_input": "2022-09-16T04:52:49.907632Z",
     "iopub.status.busy": "2022-09-16T04:52:49.907227Z",
     "iopub.status.idle": "2022-09-16T04:52:49.920439Z",
     "shell.execute_reply": "2022-09-16T04:52:49.918773Z",
     "shell.execute_reply.started": "2022-09-16T04:52:49.907599Z"
    },
    "id": "D9SLg_DnwnhN"
   },
   "outputs": [
    {
     "data": {
      "text/html": [
       "<div>\n",
       "<style scoped>\n",
       "    .dataframe tbody tr th:only-of-type {\n",
       "        vertical-align: middle;\n",
       "    }\n",
       "\n",
       "    .dataframe tbody tr th {\n",
       "        vertical-align: top;\n",
       "    }\n",
       "\n",
       "    .dataframe thead th {\n",
       "        text-align: right;\n",
       "    }\n",
       "</style>\n",
       "<table border=\"1\" class=\"dataframe\">\n",
       "  <thead>\n",
       "    <tr style=\"text-align: right;\">\n",
       "      <th></th>\n",
       "      <th>Odds</th>\n",
       "    </tr>\n",
       "  </thead>\n",
       "  <tbody>\n",
       "    <tr>\n",
       "      <th>0</th>\n",
       "      <td>1.326335</td>\n",
       "    </tr>\n",
       "    <tr>\n",
       "      <th>1</th>\n",
       "      <td>1.158666</td>\n",
       "    </tr>\n",
       "    <tr>\n",
       "      <th>2</th>\n",
       "      <td>1.178713</td>\n",
       "    </tr>\n",
       "    <tr>\n",
       "      <th>3</th>\n",
       "      <td>1.035842</td>\n",
       "    </tr>\n",
       "    <tr>\n",
       "      <th>4</th>\n",
       "      <td>1.185949</td>\n",
       "    </tr>\n",
       "    <tr>\n",
       "      <th>5</th>\n",
       "      <td>1.205203</td>\n",
       "    </tr>\n",
       "  </tbody>\n",
       "</table>\n",
       "</div>"
      ],
      "text/plain": [
       "      Odds\n",
       "0 1.326335\n",
       "1 1.158666\n",
       "2 1.178713\n",
       "3 1.035842\n",
       "4 1.185949\n",
       "5 1.205203"
      ]
     },
     "execution_count": 670,
     "metadata": {},
     "output_type": "execute_result"
    }
   ],
   "source": [
    "# take the exponential of the coefficient of a variable to calculate the odds\n",
    "# 'params' returns the coefficients of all the independent variables\n",
    "# pass the required column name to the parameter, 'columns'\n",
    "df_odds = pd.DataFrame(np.exp(logreg.params), columns= ['Odds']) \n",
    "\n",
    "# print the dataframe\n",
    "df_odds"
   ]
  },
  {
   "cell_type": "markdown",
   "metadata": {
    "id": "Tt--XVV_wnhN"
   },
   "source": [
    "**Interpretation:** \n",
    "\n",
    "odds_const: The odds of getting a heart disease is 0.107571, considering all other variables take zero value \n",
    "\n",
    "odds_age = 1.326335, it implies that the odds of getting a heart disease increases by a factor of 1.326335 due to one unit increase in the age, keeping other variables constant\n",
    "\n",
    "odds_male = 1.158666, it implies that the odds of getting a heart disease increases by a factor of 1.158666 due to one unit increase in the male, keeping other variables constant\n",
    "\n",
    "odds_cigsPerDay = 1.178713, it implies that the odds of getting a heart disease increases by a factor of 11.178713 due to one unit increase in the cigarets per Day , keeping other variables constant\n",
    "\n",
    "odds_totChol_mode = 1.035842, it implies that the odds of getting a heart disease increases by a factor of 1.035842 due to one unit increase in the total cholestrol, keeping other variables constant\n",
    "\n",
    "odds_sysBP = 1.185949, it implies that the odds of getting  a heart disease by a factor of 1.185949 due to one unit increase in the sysBP strength, keeping other variables constant\n",
    "\n",
    "\n",
    "odds_glucose_ran = 1.205203, it implies that the odds of getting a heart disease increases by a factor of 1.205203 due to one unit increase in the glucose, keeping other variables constant\n",
    "\n"
   ]
  },
  {
   "cell_type": "markdown",
   "metadata": {
    "id": "vnZ8zTbhwnhN"
   },
   "source": [
    "**Do predictions on the test set.**"
   ]
  },
  {
   "cell_type": "code",
   "execution_count": 671,
   "metadata": {
    "execution": {
     "iopub.execute_input": "2022-09-16T04:53:01.118257Z",
     "iopub.status.busy": "2022-09-16T04:53:01.117809Z",
     "iopub.status.idle": "2022-09-16T04:53:01.132870Z",
     "shell.execute_reply": "2022-09-16T04:53:01.131703Z",
     "shell.execute_reply.started": "2022-09-16T04:53:01.118220Z"
    },
    "id": "YOfTQqbQwnhO"
   },
   "outputs": [],
   "source": [
    "# let 'y_pred_prob' be the predicted values of y\n",
    "y_pred_prob = logreg.predict(X_test)\n",
    "\n",
    "# print the y_pred_prob\n",
    "#y_pred_prob.head()"
   ]
  },
  {
   "cell_type": "markdown",
   "metadata": {
    "id": "V9CL3PlqwnhO"
   },
   "source": [
    "Since the target variable can take only two values either 0 or 1. We decide the cut-off of 0.7. i.e. if 'y_pred_prob' is less than 0.7, then consider it to be 0 else consider it to be 1."
   ]
  },
  {
   "cell_type": "code",
   "execution_count": 672,
   "metadata": {
    "execution": {
     "iopub.execute_input": "2022-09-16T04:53:12.436484Z",
     "iopub.status.busy": "2022-09-16T04:53:12.436053Z",
     "iopub.status.idle": "2022-09-16T04:53:12.442735Z",
     "shell.execute_reply": "2022-09-16T04:53:12.441351Z",
     "shell.execute_reply.started": "2022-09-16T04:53:12.436449Z"
    },
    "id": "1KII01TewnhO"
   },
   "outputs": [],
   "source": [
    "# convert probabilities to 0 and 1 using 'if_else'\n",
    "y_pred = [ 0 if x < 0.7 else 1 for x in y_pred_prob]"
   ]
  },
  {
   "cell_type": "markdown",
   "metadata": {
    "id": "bDGg9hDUwnhP"
   },
   "source": [
    "#### Plot the confusion matrix."
   ]
  },
  {
   "cell_type": "code",
   "execution_count": 673,
   "metadata": {
    "execution": {
     "iopub.execute_input": "2022-09-16T04:53:17.554365Z",
     "iopub.status.busy": "2022-09-16T04:53:17.553901Z",
     "iopub.status.idle": "2022-09-16T04:53:17.734713Z",
     "shell.execute_reply": "2022-09-16T04:53:17.733495Z",
     "shell.execute_reply.started": "2022-09-16T04:53:17.554327Z"
    },
    "id": "IA9blzvGwnhP"
   },
   "outputs": [
    {
     "data": {
      "image/png": "[encoded data removed]",
      "text/plain": [
       "<matplotlib.figure.Figure at 0x1c1aedfba8>"
      ]
     },
     "metadata": {},
     "output_type": "display_data"
    }
   ],
   "source": [
    "# create a confusion matrix\n",
    "# pass the actual and predicted target values to the confusion_matrix()\n",
    "cm = confusion_matrix(y_test, y_pred)\n",
    "\n",
    "# label the confusion matrix  \n",
    "# pass the matrix as 'data'\n",
    "# pass the required column names to the parameter, 'columns'\n",
    "# pass the required row names to the parameter, 'index'\n",
    "conf_matrix = pd.DataFrame(data = cm,columns = ['Predicted:0','Predicted:1'], index = ['Actual:0','Actual:1'])\n",
    "\n",
    "# plot a heatmap to visualize the confusion matrix\n",
    "# 'annot' prints the value of each grid \n",
    "# 'fmt = d' returns the integer value in each grid\n",
    "# 'cmap' assigns color to each grid\n",
    "# as we do not require different colors for each grid in the heatmap,\n",
    "# use 'ListedColormap' to assign the specified color to the grid\n",
    "# 'cbar = False' will not return the color bar to the right side of the heatmap\n",
    "# 'linewidths' assigns the width to the line that divides each grid\n",
    "# 'annot_kws = {'size':25})' assigns the font size of the annotated text \n",
    "sns.heatmap(conf_matrix, annot = True, fmt = 'd', cmap = ListedColormap(['lightskyblue']), cbar = False, \n",
    "            linewidths = 0.1, annot_kws = {'size':25})\n",
    "\n",
    "# set the font size of x-axis ticks using 'fontsize'\n",
    "plt.xticks(fontsize = 20)\n",
    "\n",
    "# set the font size of y-axis ticks using 'fontsize'\n",
    "plt.yticks(fontsize = 20)\n",
    "\n",
    "# display the plot\n",
    "plt.show()"
   ]
  },
  {
   "cell_type": "code",
   "execution_count": 674,
   "metadata": {},
   "outputs": [
    {
     "data": {
      "image/png": "[encoded data removed]",
      "text/plain": [
       "<matplotlib.figure.Figure at 0x1c1aedf208>"
      ]
     },
     "metadata": {},
     "output_type": "display_data"
    },
    {
     "name": "stdout",
     "output_type": "stream",
     "text": [
      "The details for confusion matrix is =\n",
      "             precision    recall  f1-score   support\n",
      "\n",
      "          0       0.86      0.97      0.91       951\n",
      "          1       0.47      0.15      0.23       175\n",
      "\n",
      "avg / total       0.80      0.84      0.81      1126\n",
      "\n"
     ]
    }
   ],
   "source": [
    "# Confusion matrix\n",
    "from sklearn.metrics import confusion_matrix, classification_report\n",
    "\n",
    "cm = confusion_matrix(y_test, y_pred)\n",
    "conf_matrix = pd.DataFrame(data = cm,\n",
    "\t\t\t\t\t\tcolumns = ['Predicted:0', 'Predicted:1'],\n",
    "\t\t\t\t\t\tindex =['Actual:0', 'Actual:1'])\n",
    "plt.figure(figsize = (8, 5))\n",
    "sn.heatmap(conf_matrix, annot = True, fmt = 'd', cmap = \"Greens\")\n",
    "plt.show()\n",
    "\n",
    "print('The details for confusion matrix is =')\n",
    "print (classification_report(y_test, y_pred))\n",
    "\n",
    "\n",
    "\n"
   ]
  },
  {
   "cell_type": "code",
   "execution_count": 675,
   "metadata": {
    "execution": {
     "iopub.execute_input": "2022-09-16T04:54:13.745039Z",
     "iopub.status.busy": "2022-09-16T04:54:13.744541Z",
     "iopub.status.idle": "2022-09-16T04:54:13.752442Z",
     "shell.execute_reply": "2022-09-16T04:54:13.751449Z",
     "shell.execute_reply.started": "2022-09-16T04:54:13.745002Z"
    }
   },
   "outputs": [],
   "source": [
    "# True Negatives are denoted by 'TN'\n",
    "# Actual 'O' values which are classified correctly\n",
    "TN = cm[0,0]\n",
    "\n",
    "# True Positives are denoted by 'TP'\n",
    "# Actual '1' values which are classified correctly\n",
    "TP = cm[1,1]\n",
    "\n",
    "# False Positives are denoted by 'FP'\n",
    "# it is the type 1 error\n",
    "# Actual 'O' values which are classified wrongly as '1'\n",
    "FP = cm[0,1]\n",
    "\n",
    "# False Negatives are denoted by 'FN'\n",
    "# it is the type 2 error\n",
    "# Actual '1' values which are classified wrongly as '0'\n",
    "FN = cm[1,0]"
   ]
  },
  {
   "cell_type": "markdown",
   "metadata": {
    "id": "8SQ2NG3PwnhQ"
   },
   "source": [
    "**Compute various performance metrics.**"
   ]
  },
  {
   "cell_type": "markdown",
   "metadata": {
    "id": "J1s7z9scwnhQ"
   },
   "source": [
    "**Precision:** It is defined as the ratio of true positives to the total positive predictions."
   ]
  },
  {
   "cell_type": "code",
   "execution_count": 676,
   "metadata": {
    "execution": {
     "iopub.execute_input": "2022-09-16T04:54:19.641923Z",
     "iopub.status.busy": "2022-09-16T04:54:19.641499Z",
     "iopub.status.idle": "2022-09-16T04:54:19.649621Z",
     "shell.execute_reply": "2022-09-16T04:54:19.648701Z",
     "shell.execute_reply.started": "2022-09-16T04:54:19.641889Z"
    },
    "id": "HDA64fvjwnhQ"
   },
   "outputs": [
    {
     "data": {
      "text/plain": [
       "0.47368421052631576"
      ]
     },
     "execution_count": 676,
     "metadata": {},
     "output_type": "execute_result"
    }
   ],
   "source": [
    "# calculate the precision value\n",
    "precision = TP / (TP+FP)\n",
    "\n",
    "# print the value\n",
    "precision"
   ]
  },
  {
   "cell_type": "markdown",
   "metadata": {
    "id": "XA8Z-URwwnhQ"
   },
   "source": [
    "**Recall:** It is the ratio of true positives to the total actual positive observations. It is also known as, `Sensitivity` or `True Positive Rate`."
   ]
  },
  {
   "cell_type": "code",
   "execution_count": 677,
   "metadata": {
    "execution": {
     "iopub.execute_input": "2022-09-16T04:54:30.180230Z",
     "iopub.status.busy": "2022-09-16T04:54:30.179706Z",
     "iopub.status.idle": "2022-09-16T04:54:30.196609Z",
     "shell.execute_reply": "2022-09-16T04:54:30.195312Z",
     "shell.execute_reply.started": "2022-09-16T04:54:30.180191Z"
    },
    "id": "6XHOQZRgwnhR"
   },
   "outputs": [
    {
     "data": {
      "text/plain": [
       "0.15428571428571428"
      ]
     },
     "execution_count": 677,
     "metadata": {},
     "output_type": "execute_result"
    }
   ],
   "source": [
    "# calculate the recall value\n",
    "recall = TP / (TP+FN)\n",
    "\n",
    "# print the value\n",
    "recall"
   ]
  },
  {
   "cell_type": "markdown",
   "metadata": {
    "id": "jIs6iGNNwnhR"
   },
   "source": [
    "**Specificity:** It is the ratio of true negatives to the total actual negative observations."
   ]
  },
  {
   "cell_type": "code",
   "execution_count": 678,
   "metadata": {
    "execution": {
     "iopub.execute_input": "2022-09-16T04:54:35.962125Z",
     "iopub.status.busy": "2022-09-16T04:54:35.961015Z",
     "iopub.status.idle": "2022-09-16T04:54:35.969218Z",
     "shell.execute_reply": "2022-09-16T04:54:35.968224Z",
     "shell.execute_reply.started": "2022-09-16T04:54:35.962083Z"
    },
    "id": "NG5lh8LDwnhR"
   },
   "outputs": [
    {
     "data": {
      "text/plain": [
       "0.9684542586750788"
      ]
     },
     "execution_count": 678,
     "metadata": {},
     "output_type": "execute_result"
    }
   ],
   "source": [
    "# calculate the specificity value\n",
    "specificity = TN / (TN+FP)\n",
    "\n",
    "# print the value\n",
    "specificity"
   ]
  },
  {
   "cell_type": "markdown",
   "metadata": {
    "id": "TIQ1Y9eKwnhS"
   },
   "source": [
    "**f1-score:** It is defined as the harmonic mean of precision and recall."
   ]
  },
  {
   "cell_type": "code",
   "execution_count": 679,
   "metadata": {
    "execution": {
     "iopub.execute_input": "2022-09-16T04:54:40.031524Z",
     "iopub.status.busy": "2022-09-16T04:54:40.031104Z",
     "iopub.status.idle": "2022-09-16T04:54:40.039532Z",
     "shell.execute_reply": "2022-09-16T04:54:40.038222Z",
     "shell.execute_reply.started": "2022-09-16T04:54:40.031491Z"
    },
    "id": "BXw0AaHownhS"
   },
   "outputs": [
    {
     "data": {
      "text/plain": [
       "0.23275862068965517"
      ]
     },
     "execution_count": 679,
     "metadata": {},
     "output_type": "execute_result"
    }
   ],
   "source": [
    "# calculate the f1_score\n",
    "f1_score = 2*((precision*recall)/(precision+recall))\n",
    "\n",
    "# print the f1_score\n",
    "f1_score"
   ]
  },
  {
   "cell_type": "markdown",
   "metadata": {
    "id": "R1NR-du3wnhS"
   },
   "source": [
    "**Accuracy:** It is the ratio of correct predictions (i.e. TN+TP) to the total observations. According to the confusion matrix, it is the ratio of the sum of diagonal elements to the sum of all the in the matrix. It is not a very good measure if the dataset is imbalanced."
   ]
  },
  {
   "cell_type": "code",
   "execution_count": 680,
   "metadata": {
    "execution": {
     "iopub.execute_input": "2022-09-16T04:54:45.814911Z",
     "iopub.status.busy": "2022-09-16T04:54:45.814453Z",
     "iopub.status.idle": "2022-09-16T04:54:45.823621Z",
     "shell.execute_reply": "2022-09-16T04:54:45.822227Z",
     "shell.execute_reply.started": "2022-09-16T04:54:45.814854Z"
    },
    "id": "-bohUjm2wnhS"
   },
   "outputs": [
    {
     "data": {
      "text/plain": [
       "0.8419182948490231"
      ]
     },
     "execution_count": 680,
     "metadata": {},
     "output_type": "execute_result"
    }
   ],
   "source": [
    "# calculate the accuracy\n",
    "accuracy = (TN+TP) / (TN+FP+FN+TP)\n",
    "\n",
    "# print the accuracy\n",
    "accuracy"
   ]
  },
  {
   "cell_type": "markdown",
   "metadata": {
    "id": "YRaTBK5BwnhT"
   },
   "source": [
    "**Interpretation:**  For our dataset,  accuracy is 0.84. We can say that our model is 84% accurate."
   ]
  },
  {
   "cell_type": "markdown",
   "metadata": {
    "id": "dXYWIsauwnhT"
   },
   "source": [
    "We can also calculate the above measures using the `classification_report()`"
   ]
  },
  {
   "cell_type": "code",
   "execution_count": 681,
   "metadata": {
    "execution": {
     "iopub.execute_input": "2022-09-16T04:55:02.536276Z",
     "iopub.status.busy": "2022-09-16T04:55:02.535657Z",
     "iopub.status.idle": "2022-09-16T04:55:02.553979Z",
     "shell.execute_reply": "2022-09-16T04:55:02.552643Z",
     "shell.execute_reply.started": "2022-09-16T04:55:02.536223Z"
    }
   },
   "outputs": [
    {
     "name": "stdout",
     "output_type": "stream",
     "text": [
      "             precision    recall  f1-score   support\n",
      "\n",
      "          0       0.86      0.97      0.91       951\n",
      "          1       0.47      0.15      0.23       175\n",
      "\n",
      "avg / total       0.80      0.84      0.81      1126\n",
      "\n"
     ]
    }
   ],
   "source": [
    "# calculate various performance measures\n",
    "acc_table = classification_report(y_test, y_pred)\n",
    "\n",
    "# print the table\n",
    "print(acc_table)"
   ]
  },
  {
   "cell_type": "code",
   "execution_count": null,
   "metadata": {},
   "outputs": [],
   "source": []
  },
  {
   "cell_type": "markdown",
   "metadata": {
    "id": "sm1OEmqVwnhT"
   },
   "source": [
    "**Kappa score:** It is a measure of inter-rater reliability. For logistic regression, the actual and predicted values of the target variable are the raters."
   ]
  },
  {
   "cell_type": "code",
   "execution_count": 682,
   "metadata": {
    "execution": {
     "iopub.execute_input": "2022-09-16T04:55:11.224380Z",
     "iopub.status.busy": "2022-09-16T04:55:11.223976Z",
     "iopub.status.idle": "2022-09-16T04:55:11.234086Z",
     "shell.execute_reply": "2022-09-16T04:55:11.232644Z",
     "shell.execute_reply.started": "2022-09-16T04:55:11.224348Z"
    },
    "id": "RgG7WGVcwnhU"
   },
   "outputs": [
    {
     "name": "stdout",
     "output_type": "stream",
     "text": [
      "kappa value: 0.16932054608300673\n"
     ]
    }
   ],
   "source": [
    "# compute the kappa value\n",
    "kappa = cohen_kappa_score(y_test, y_pred)\n",
    "\n",
    "# print the kappa value\n",
    "print('kappa value:',kappa)"
   ]
  },
  {
   "cell_type": "markdown",
   "metadata": {
    "id": "kuNKe2svwnhU"
   },
   "source": [
    "**Interpretation:** Write the inference based on the kappa score value and this model falls under which agreeemnet."
   ]
  },
  {
   "cell_type": "markdown",
   "metadata": {
    "id": "kYb3W5GhwnhU"
   },
   "source": [
    "#### Plot the ROC curve.\n",
    "\n",
    "ROC curve is plotted with the true positive rate (tpr) on the y-axis and false positive rate (fpr) on the x-axis. The area under this curve is used as a measure of separability of the model."
   ]
  },
  {
   "cell_type": "code",
   "execution_count": 683,
   "metadata": {
    "execution": {
     "iopub.execute_input": "2022-09-16T04:56:53.142065Z",
     "iopub.status.busy": "2022-09-16T04:56:53.141501Z",
     "iopub.status.idle": "2022-09-16T04:56:53.389266Z",
     "shell.execute_reply": "2022-09-16T04:56:53.387813Z",
     "shell.execute_reply.started": "2022-09-16T04:56:53.142009Z"
    },
    "id": "_4njA6qkwnhV"
   },
   "outputs": [
    {
     "data": {
      "image/png": "[encoded data removed]",
      "text/plain": [
       "<matplotlib.figure.Figure at 0x1c1a596f98>"
      ]
     },
     "metadata": {},
     "output_type": "display_data"
    }
   ],
   "source": [
    "# the roc_curve() returns the values for false positive rate, true positive rate and threshold\n",
    "# pass the actual target values and predicted probabilities to the function\n",
    "fpr, tpr, thresholds = roc_curve(y_test, y_pred_prob)\n",
    "\n",
    "# plot the ROC curve\n",
    "plt.plot(fpr, tpr)\n",
    "\n",
    "# set limits for x and y axes\n",
    "plt.xlim([0.0, 1.0])\n",
    "plt.ylim([0.0, 1.0])\n",
    "\n",
    "# plot the straight line showing worst prediction for the model\n",
    "plt.plot([0, 1], [0, 1],'r--')\n",
    "\n",
    "# add plot and axes labels\n",
    "# set text size using 'fontsize'\n",
    "plt.title('ROC curve for Heart disease prediction (Full Model)', fontsize = 15)\n",
    "plt.xlabel('False positive rate (1-Specificity)', fontsize = 15)\n",
    "plt.ylabel('True positive rate (Sensitivity)', fontsize = 15)\n",
    "\n",
    "# add the AUC score to the plot\n",
    "# 'x' and 'y' gives position of the text\n",
    "# 's' is the text \n",
    "# use round() to round-off the AUC score upto 4 digits\n",
    "plt.text(x = 0.02, y = 0.9, s = ('AUC Score:', round(metrics.roc_auc_score(y_test, y_pred_prob),4)))\n",
    "                               \n",
    "# plot the grid\n",
    "plt.grid(True)"
   ]
  },
  {
   "cell_type": "markdown",
   "metadata": {
    "id": "Yyp7NOfPwnhV"
   },
   "source": [
    "**Interpretation:** Provide inference based on the obtained ROC curve and AUC score."
   ]
  },
  {
   "cell_type": "markdown",
   "metadata": {},
   "source": [
    "**Interpretation:** The red dotted line represents the ROC curve of a purely random classifier; a good classifier stays as far away from that line as possible (toward the top-left corner).<br>\n",
    "From the above plot, we can see that our classifier (logistic regression) is away from the dotted line; with the AUC score 0.7166."
   ]
  },
  {
   "cell_type": "markdown",
   "metadata": {
    "id": "Et8lYbO5wnhV"
   },
   "source": [
    "<a id=\"cut_off\"></a>\n",
    "## 3.1 Identify the Best Cut-off Value"
   ]
  },
  {
   "cell_type": "code",
   "execution_count": 684,
   "metadata": {},
   "outputs": [],
   "source": [
    "# create an empty dataframe to store the scores for various algorithms\n",
    "score_card = pd.DataFrame(columns=['Probability Cutoff', 'AUC Score', 'Precision Score', 'Recall Score',\n",
    "                                       'Accuracy Score', 'Kappa Score', 'f1-score'])\n",
    "\n",
    "# append the result table for all performance scores\n",
    "# performance measures considered for model comparision are 'AUC Score', 'Precision Score', 'Recall Score','Accuracy Score',\n",
    "# 'Kappa Score', and 'f1-score'\n",
    "# compile the required information in a user defined function \n",
    "def update_score_card(model, cutoff):\n",
    "    \n",
    "    # let 'y_pred_prob' be the predicted values of y\n",
    "    y_pred_prob = logreg.predict(X_test)\n",
    "\n",
    "    # convert probabilities to 0 and 1 using 'if_else'\n",
    "    y_pred = [ 0 if x < cutoff else 1 for x in y_pred_prob]\n",
    "    \n",
    "    # assign 'score_card' as global variable\n",
    "    global score_card\n",
    "\n",
    "    # append the results to the dataframe 'score_card'\n",
    "    # 'ignore_index = True' do not consider the index labels\n",
    "    score_card = score_card.append({'Probability Cutoff': cutoff,\n",
    "                                    'AUC Score' : metrics.roc_auc_score(y_test, y_pred),\n",
    "                                    'Precision Score': metrics.precision_score(y_test, y_pred),\n",
    "                                    'Recall Score': metrics.recall_score(y_test, y_pred),\n",
    "                                    'Accuracy Score': metrics.accuracy_score(y_test, y_pred),\n",
    "                                    'Kappa Score':metrics.cohen_kappa_score(y_test, y_pred),\n",
    "                                    'f1-score': metrics.f1_score(y_test, y_pred)}, \n",
    "                                    ignore_index = True)"
   ]
  },
  {
   "cell_type": "code",
   "execution_count": 685,
   "metadata": {},
   "outputs": [],
   "source": [
    "# consider a list of values for cut-off\n",
    "cutoff = [0.1, 0.2, 0.3, 0.4, 0.5, 0.6, 0.7, 0.8, 0.9]\n",
    "\n",
    "# use the for loop to compute performance measures for each value of the cut-off\n",
    "# call the update_score_card() to update the score card for each cut-off\n",
    "# pass the model and cut-off value to the function\n",
    "for value in cutoff:\n",
    "    update_score_card(logreg, value)"
   ]
  },
  {
   "cell_type": "code",
   "execution_count": 686,
   "metadata": {},
   "outputs": [
    {
     "name": "stdout",
     "output_type": "stream",
     "text": [
      "Score Card for Logistic regression:\n"
     ]
    },
    {
     "data": {
      "text/html": [
       "<style  type=\"text/css\" >\n",
       "    #T_3658267e_376a_11ed_8746_3035add5667crow4_col1 {\n",
       "            background-color:  lightblue;\n",
       "        }    #T_3658267e_376a_11ed_8746_3035add5667crow5_col5 {\n",
       "            background-color:  lightblue;\n",
       "        }    #T_3658267e_376a_11ed_8746_3035add5667crow5_col6 {\n",
       "            background-color:  lightblue;\n",
       "        }    #T_3658267e_376a_11ed_8746_3035add5667crow7_col4 {\n",
       "            background-color:  lightblue;\n",
       "        }</style>  \n",
       "<table id=\"T_3658267e_376a_11ed_8746_3035add5667c\" > \n",
       "<thead>    <tr> \n",
       "        <th class=\"blank level0\" ></th> \n",
       "        <th class=\"col_heading level0 col0\" >Probability Cutoff</th> \n",
       "        <th class=\"col_heading level0 col1\" >AUC Score</th> \n",
       "        <th class=\"col_heading level0 col2\" >Precision Score</th> \n",
       "        <th class=\"col_heading level0 col3\" >Recall Score</th> \n",
       "        <th class=\"col_heading level0 col4\" >Accuracy Score</th> \n",
       "        <th class=\"col_heading level0 col5\" >Kappa Score</th> \n",
       "        <th class=\"col_heading level0 col6\" >f1-score</th> \n",
       "    </tr></thead> \n",
       "<tbody>    <tr> \n",
       "        <th id=\"T_3658267e_376a_11ed_8746_3035add5667clevel0_row0\" class=\"row_heading level0 row0\" >0</th> \n",
       "        <td id=\"T_3658267e_376a_11ed_8746_3035add5667crow0_col0\" class=\"data row0 col0\" >0.1</td> \n",
       "        <td id=\"T_3658267e_376a_11ed_8746_3035add5667crow0_col1\" class=\"data row0 col1\" >0.5</td> \n",
       "        <td id=\"T_3658267e_376a_11ed_8746_3035add5667crow0_col2\" class=\"data row0 col2\" >0.155417</td> \n",
       "        <td id=\"T_3658267e_376a_11ed_8746_3035add5667crow0_col3\" class=\"data row0 col3\" >1</td> \n",
       "        <td id=\"T_3658267e_376a_11ed_8746_3035add5667crow0_col4\" class=\"data row0 col4\" >0.155417</td> \n",
       "        <td id=\"T_3658267e_376a_11ed_8746_3035add5667crow0_col5\" class=\"data row0 col5\" >0</td> \n",
       "        <td id=\"T_3658267e_376a_11ed_8746_3035add5667crow0_col6\" class=\"data row0 col6\" >0.269024</td> \n",
       "    </tr>    <tr> \n",
       "        <th id=\"T_3658267e_376a_11ed_8746_3035add5667clevel0_row1\" class=\"row_heading level0 row1\" >1</th> \n",
       "        <td id=\"T_3658267e_376a_11ed_8746_3035add5667crow1_col0\" class=\"data row1 col0\" >0.2</td> \n",
       "        <td id=\"T_3658267e_376a_11ed_8746_3035add5667crow1_col1\" class=\"data row1 col1\" >0.5</td> \n",
       "        <td id=\"T_3658267e_376a_11ed_8746_3035add5667crow1_col2\" class=\"data row1 col2\" >0.155417</td> \n",
       "        <td id=\"T_3658267e_376a_11ed_8746_3035add5667crow1_col3\" class=\"data row1 col3\" >1</td> \n",
       "        <td id=\"T_3658267e_376a_11ed_8746_3035add5667crow1_col4\" class=\"data row1 col4\" >0.155417</td> \n",
       "        <td id=\"T_3658267e_376a_11ed_8746_3035add5667crow1_col5\" class=\"data row1 col5\" >0</td> \n",
       "        <td id=\"T_3658267e_376a_11ed_8746_3035add5667crow1_col6\" class=\"data row1 col6\" >0.269024</td> \n",
       "    </tr>    <tr> \n",
       "        <th id=\"T_3658267e_376a_11ed_8746_3035add5667clevel0_row2\" class=\"row_heading level0 row2\" >2</th> \n",
       "        <td id=\"T_3658267e_376a_11ed_8746_3035add5667crow2_col0\" class=\"data row2 col0\" >0.3</td> \n",
       "        <td id=\"T_3658267e_376a_11ed_8746_3035add5667crow2_col1\" class=\"data row2 col1\" >0.51607</td> \n",
       "        <td id=\"T_3658267e_376a_11ed_8746_3035add5667crow2_col2\" class=\"data row2 col2\" >0.15978</td> \n",
       "        <td id=\"T_3658267e_376a_11ed_8746_3035add5667crow2_col3\" class=\"data row2 col3\" >0.994286</td> \n",
       "        <td id=\"T_3658267e_376a_11ed_8746_3035add5667crow2_col4\" class=\"data row2 col4\" >0.186501</td> \n",
       "        <td id=\"T_3658267e_376a_11ed_8746_3035add5667crow2_col5\" class=\"data row2 col5\" >0.0102657</td> \n",
       "        <td id=\"T_3658267e_376a_11ed_8746_3035add5667crow2_col6\" class=\"data row2 col6\" >0.275316</td> \n",
       "    </tr>    <tr> \n",
       "        <th id=\"T_3658267e_376a_11ed_8746_3035add5667clevel0_row3\" class=\"row_heading level0 row3\" >3</th> \n",
       "        <td id=\"T_3658267e_376a_11ed_8746_3035add5667crow3_col0\" class=\"data row3 col0\" >0.4</td> \n",
       "        <td id=\"T_3658267e_376a_11ed_8746_3035add5667crow3_col1\" class=\"data row3 col1\" >0.584903</td> \n",
       "        <td id=\"T_3658267e_376a_11ed_8746_3035add5667crow3_col2\" class=\"data row3 col2\" >0.184332</td> \n",
       "        <td id=\"T_3658267e_376a_11ed_8746_3035add5667crow3_col3\" class=\"data row3 col3\" >0.914286</td> \n",
       "        <td id=\"T_3658267e_376a_11ed_8746_3035add5667crow3_col4\" class=\"data row3 col4\" >0.357904</td> \n",
       "        <td id=\"T_3658267e_376a_11ed_8746_3035add5667crow3_col5\" class=\"data row3 col5\" >0.0649194</td> \n",
       "        <td id=\"T_3658267e_376a_11ed_8746_3035add5667crow3_col6\" class=\"data row3 col6\" >0.306807</td> \n",
       "    </tr>    <tr> \n",
       "        <th id=\"T_3658267e_376a_11ed_8746_3035add5667clevel0_row4\" class=\"row_heading level0 row4\" >4</th> \n",
       "        <td id=\"T_3658267e_376a_11ed_8746_3035add5667crow4_col0\" class=\"data row4 col0\" >0.5</td> \n",
       "        <td id=\"T_3658267e_376a_11ed_8746_3035add5667crow4_col1\" class=\"data row4 col1\" >0.657603</td> \n",
       "        <td id=\"T_3658267e_376a_11ed_8746_3035add5667crow4_col2\" class=\"data row4 col2\" >0.239209</td> \n",
       "        <td id=\"T_3658267e_376a_11ed_8746_3035add5667crow4_col3\" class=\"data row4 col3\" >0.76</td> \n",
       "        <td id=\"T_3658267e_376a_11ed_8746_3035add5667crow4_col4\" class=\"data row4 col4\" >0.587034</td> \n",
       "        <td id=\"T_3658267e_376a_11ed_8746_3035add5667crow4_col5\" class=\"data row4 col5\" >0.166929</td> \n",
       "        <td id=\"T_3658267e_376a_11ed_8746_3035add5667crow4_col6\" class=\"data row4 col6\" >0.363885</td> \n",
       "    </tr>    <tr> \n",
       "        <th id=\"T_3658267e_376a_11ed_8746_3035add5667clevel0_row5\" class=\"row_heading level0 row5\" >5</th> \n",
       "        <td id=\"T_3658267e_376a_11ed_8746_3035add5667crow5_col0\" class=\"data row5 col0\" >0.6</td> \n",
       "        <td id=\"T_3658267e_376a_11ed_8746_3035add5667crow5_col1\" class=\"data row5 col1\" >0.631513</td> \n",
       "        <td id=\"T_3658267e_376a_11ed_8746_3035add5667crow5_col2\" class=\"data row5 col2\" >0.327434</td> \n",
       "        <td id=\"T_3658267e_376a_11ed_8746_3035add5667crow5_col3\" class=\"data row5 col3\" >0.422857</td> \n",
       "        <td id=\"T_3658267e_376a_11ed_8746_3035add5667crow5_col4\" class=\"data row5 col4\" >0.775311</td> \n",
       "        <td id=\"T_3658267e_376a_11ed_8746_3035add5667crow5_col5\" class=\"data row5 col5\" >0.235075</td> \n",
       "        <td id=\"T_3658267e_376a_11ed_8746_3035add5667crow5_col6\" class=\"data row5 col6\" >0.369077</td> \n",
       "    </tr>    <tr> \n",
       "        <th id=\"T_3658267e_376a_11ed_8746_3035add5667clevel0_row6\" class=\"row_heading level0 row6\" >6</th> \n",
       "        <td id=\"T_3658267e_376a_11ed_8746_3035add5667crow6_col0\" class=\"data row6 col0\" >0.7</td> \n",
       "        <td id=\"T_3658267e_376a_11ed_8746_3035add5667crow6_col1\" class=\"data row6 col1\" >0.56137</td> \n",
       "        <td id=\"T_3658267e_376a_11ed_8746_3035add5667crow6_col2\" class=\"data row6 col2\" >0.473684</td> \n",
       "        <td id=\"T_3658267e_376a_11ed_8746_3035add5667crow6_col3\" class=\"data row6 col3\" >0.154286</td> \n",
       "        <td id=\"T_3658267e_376a_11ed_8746_3035add5667crow6_col4\" class=\"data row6 col4\" >0.841918</td> \n",
       "        <td id=\"T_3658267e_376a_11ed_8746_3035add5667crow6_col5\" class=\"data row6 col5\" >0.169321</td> \n",
       "        <td id=\"T_3658267e_376a_11ed_8746_3035add5667crow6_col6\" class=\"data row6 col6\" >0.232759</td> \n",
       "    </tr>    <tr> \n",
       "        <th id=\"T_3658267e_376a_11ed_8746_3035add5667clevel0_row7\" class=\"row_heading level0 row7\" >7</th> \n",
       "        <td id=\"T_3658267e_376a_11ed_8746_3035add5667crow7_col0\" class=\"data row7 col0\" >0.8</td> \n",
       "        <td id=\"T_3658267e_376a_11ed_8746_3035add5667crow7_col1\" class=\"data row7 col1\" >0.523085</td> \n",
       "        <td id=\"T_3658267e_376a_11ed_8746_3035add5667crow7_col2\" class=\"data row7 col2\" >0.642857</td> \n",
       "        <td id=\"T_3658267e_376a_11ed_8746_3035add5667crow7_col3\" class=\"data row7 col3\" >0.0514286</td> \n",
       "        <td id=\"T_3658267e_376a_11ed_8746_3035add5667crow7_col4\" class=\"data row7 col4\" >0.848135</td> \n",
       "        <td id=\"T_3658267e_376a_11ed_8746_3035add5667crow7_col5\" class=\"data row7 col5\" >0.0739152</td> \n",
       "        <td id=\"T_3658267e_376a_11ed_8746_3035add5667crow7_col6\" class=\"data row7 col6\" >0.0952381</td> \n",
       "    </tr>    <tr> \n",
       "        <th id=\"T_3658267e_376a_11ed_8746_3035add5667clevel0_row8\" class=\"row_heading level0 row8\" >8</th> \n",
       "        <td id=\"T_3658267e_376a_11ed_8746_3035add5667crow8_col0\" class=\"data row8 col0\" >0.9</td> \n",
       "        <td id=\"T_3658267e_376a_11ed_8746_3035add5667crow8_col1\" class=\"data row8 col1\" >0.505714</td> \n",
       "        <td id=\"T_3658267e_376a_11ed_8746_3035add5667crow8_col2\" class=\"data row8 col2\" >1</td> \n",
       "        <td id=\"T_3658267e_376a_11ed_8746_3035add5667crow8_col3\" class=\"data row8 col3\" >0.0114286</td> \n",
       "        <td id=\"T_3658267e_376a_11ed_8746_3035add5667crow8_col4\" class=\"data row8 col4\" >0.846359</td> \n",
       "        <td id=\"T_3658267e_376a_11ed_8746_3035add5667crow8_col5\" class=\"data row8 col5\" >0.0191539</td> \n",
       "        <td id=\"T_3658267e_376a_11ed_8746_3035add5667crow8_col6\" class=\"data row8 col6\" >0.0225989</td> \n",
       "    </tr></tbody> \n",
       "</table> "
      ],
      "text/plain": [
       "<pandas.io.formats.style.Styler at 0x1c1d2cfd68>"
      ]
     },
     "execution_count": 686,
     "metadata": {},
     "output_type": "execute_result"
    }
   ],
   "source": [
    "# print the score card \n",
    "print('Score Card for Logistic regression:')\n",
    "\n",
    "# sort the dataframe based on the probability cut-off values ascending order\n",
    "# 'reset_index' resets the index of the dataframe\n",
    "# 'drop = True' drops the previous index\n",
    "score_card = score_card.sort_values('Probability Cutoff').reset_index(drop = True)\n",
    "\n",
    "# color the cell in the columns 'AUC Score', 'Accuracy Score', 'Kappa Score', 'f1-score' having maximum values\n",
    "# 'style.highlight_max' assigns color to the maximum value\n",
    "# pass specified color to the parameter, 'color'\n",
    "# pass the data to limit the color assignment to the parameter, 'subset' \n",
    "score_card.style.highlight_max(color = 'lightblue', subset = ['AUC Score', 'Accuracy Score', 'Kappa Score', 'f1-score'])"
   ]
  },
  {
   "cell_type": "markdown",
   "metadata": {
    "id": "gkptM159wnhV"
   },
   "source": [
    "<a id=\"youden\"></a>\n",
    "### 3.1.1 Youden's Index"
   ]
  },
  {
   "cell_type": "code",
   "execution_count": 687,
   "metadata": {
    "execution": {
     "iopub.execute_input": "2022-09-16T05:10:58.985192Z",
     "iopub.status.busy": "2022-09-16T05:10:58.984733Z",
     "iopub.status.idle": "2022-09-16T05:10:59.005567Z",
     "shell.execute_reply": "2022-09-16T05:10:59.004114Z",
     "shell.execute_reply.started": "2022-09-16T05:10:58.985156Z"
    },
    "id": "OHIigqo0wnhW"
   },
   "outputs": [
    {
     "data": {
      "text/html": [
       "<div>\n",
       "<style scoped>\n",
       "    .dataframe tbody tr th:only-of-type {\n",
       "        vertical-align: middle;\n",
       "    }\n",
       "\n",
       "    .dataframe tbody tr th {\n",
       "        vertical-align: top;\n",
       "    }\n",
       "\n",
       "    .dataframe thead th {\n",
       "        text-align: right;\n",
       "    }\n",
       "</style>\n",
       "<table border=\"1\" class=\"dataframe\">\n",
       "  <thead>\n",
       "    <tr style=\"text-align: right;\">\n",
       "      <th></th>\n",
       "      <th>FPR</th>\n",
       "      <th>TPR</th>\n",
       "      <th>Threshold</th>\n",
       "      <th>Difference</th>\n",
       "    </tr>\n",
       "  </thead>\n",
       "  <tbody>\n",
       "    <tr>\n",
       "      <th>0</th>\n",
       "      <td>0.353312</td>\n",
       "      <td>0.714286</td>\n",
       "      <td>0.528107</td>\n",
       "      <td>0.360973</td>\n",
       "    </tr>\n",
       "    <tr>\n",
       "      <th>1</th>\n",
       "      <td>0.349106</td>\n",
       "      <td>0.708571</td>\n",
       "      <td>0.530317</td>\n",
       "      <td>0.359465</td>\n",
       "    </tr>\n",
       "    <tr>\n",
       "      <th>2</th>\n",
       "      <td>0.344900</td>\n",
       "      <td>0.702857</td>\n",
       "      <td>0.531513</td>\n",
       "      <td>0.357957</td>\n",
       "    </tr>\n",
       "    <tr>\n",
       "      <th>3</th>\n",
       "      <td>0.340694</td>\n",
       "      <td>0.697143</td>\n",
       "      <td>0.533621</td>\n",
       "      <td>0.356449</td>\n",
       "    </tr>\n",
       "    <tr>\n",
       "      <th>4</th>\n",
       "      <td>0.353312</td>\n",
       "      <td>0.708571</td>\n",
       "      <td>0.528565</td>\n",
       "      <td>0.355259</td>\n",
       "    </tr>\n",
       "  </tbody>\n",
       "</table>\n",
       "</div>"
      ],
      "text/plain": [
       "       FPR      TPR  Threshold  Difference\n",
       "0 0.353312 0.714286   0.528107    0.360973\n",
       "1 0.349106 0.708571   0.530317    0.359465\n",
       "2 0.344900 0.702857   0.531513    0.357957\n",
       "3 0.340694 0.697143   0.533621    0.356449\n",
       "4 0.353312 0.708571   0.528565    0.355259"
      ]
     },
     "execution_count": 687,
     "metadata": {},
     "output_type": "execute_result"
    }
   ],
   "source": [
    "# create a dataframe to store the values for false positive rate, true positive rate and threshold\n",
    "youdens_table = pd.DataFrame({'TPR': tpr,\n",
    "                             'FPR': fpr,\n",
    "                             'Threshold': thresholds})\n",
    "\n",
    "# calculate the difference between TPR and FPR for each threshold and store the values in a new column 'Difference'\n",
    "youdens_table['Difference'] = youdens_table.TPR - youdens_table.FPR\n",
    "\n",
    "# sort the dataframe based on the values of difference \n",
    "# 'ascending = False' sorts the data in descending order\n",
    "# 'reset_index' resets the index of the dataframe\n",
    "# 'drop = True' drops the previous index\n",
    "youdens_table = youdens_table.sort_values('Difference', ascending = False).reset_index(drop = True)\n",
    "\n",
    "# print the first five observations\n",
    "youdens_table.head()"
   ]
  },
  {
   "cell_type": "code",
   "execution_count": 688,
   "metadata": {
    "execution": {
     "iopub.execute_input": "2022-09-16T05:11:11.699655Z",
     "iopub.status.busy": "2022-09-16T05:11:11.699249Z",
     "iopub.status.idle": "2022-09-16T05:11:11.705631Z",
     "shell.execute_reply": "2022-09-16T05:11:11.704524Z",
     "shell.execute_reply.started": "2022-09-16T05:11:11.699622Z"
    }
   },
   "outputs": [],
   "source": [
    "# convert probabilities to 0 and 1 using 'if_else'\n",
    "y_pred_youden = [ 0 if x < 0.4 else 1 for x in y_pred_prob]\n"
   ]
  },
  {
   "cell_type": "markdown",
   "metadata": {
    "id": "4St-OK-XwnhW"
   },
   "source": [
    "#### Plot the confusion matrix, with the optimal threshold computed using Youden's index method."
   ]
  },
  {
   "cell_type": "code",
   "execution_count": 689,
   "metadata": {
    "execution": {
     "iopub.execute_input": "2022-09-16T05:11:18.737268Z",
     "iopub.status.busy": "2022-09-16T05:11:18.736836Z",
     "iopub.status.idle": "2022-09-16T05:11:18.893810Z",
     "shell.execute_reply": "2022-09-16T05:11:18.890277Z",
     "shell.execute_reply.started": "2022-09-16T05:11:18.737233Z"
    },
    "id": "8_mpAYPlwnhW"
   },
   "outputs": [
    {
     "data": {
      "image/png": "[encoded data removed]",
      "text/plain": [
       "<matplotlib.figure.Figure at 0x1c1a786780>"
      ]
     },
     "metadata": {},
     "output_type": "display_data"
    }
   ],
   "source": [
    "# create a confusion matrix\n",
    "# pass the actual and predicted target values to the confusion_matrix()\n",
    "cm = confusion_matrix(y_test, y_pred_youden)\n",
    "\n",
    "# label the confusion matrix  \n",
    "# pass the matrix as 'data'\n",
    "# pass the required column names to the parameter, 'columns'\n",
    "# pass the required row names to the parameter, 'index'\n",
    "conf_matrix = pd.DataFrame(data = cm,columns = ['Predicted:0','Predicted:1'], index = ['Actual:0','Actual:1'])\n",
    "\n",
    "# plot a heatmap to visualize the confusion matrix\n",
    "# 'annot' prints the value of each grid \n",
    "# 'fmt = d' returns the integer value in each grid\n",
    "# 'cmap' assigns color to each grid\n",
    "# as we do not require different colors for each grid in the heatmap,\n",
    "# use 'ListedColormap' to assign the specified color to the grid\n",
    "# 'cbar = False' will not return the color bar to the right side of the heatmap\n",
    "# 'linewidths' assigns the width to the line that divides each grid\n",
    "# 'annot_kws = {'size':25})' assigns the font size of the annotated text \n",
    "sns.heatmap(conf_matrix, annot = True, fmt = 'd', cmap = ListedColormap(['lightskyblue']), cbar = False, \n",
    "            linewidths = 0.1, annot_kws = {'size':25})\n",
    "\n",
    "# set the font size of x-axis ticks using 'fontsize'\n",
    "plt.xticks(fontsize = 20)\n",
    "\n",
    "# set the font size of y-axis ticks using 'fontsize'\n",
    "plt.yticks(fontsize = 20)\n",
    "\n",
    "# display the plot\n",
    "plt.show()"
   ]
  },
  {
   "cell_type": "code",
   "execution_count": 690,
   "metadata": {
    "execution": {
     "iopub.execute_input": "2022-09-16T05:14:50.811482Z",
     "iopub.status.busy": "2022-09-16T05:14:50.811002Z",
     "iopub.status.idle": "2022-09-16T05:14:50.825059Z",
     "shell.execute_reply": "2022-09-16T05:14:50.823210Z",
     "shell.execute_reply.started": "2022-09-16T05:14:50.811447Z"
    }
   },
   "outputs": [
    {
     "name": "stdout",
     "output_type": "stream",
     "text": [
      "             precision    recall  f1-score   support\n",
      "\n",
      "          0       0.94      0.26      0.40       951\n",
      "          1       0.18      0.91      0.31       175\n",
      "\n",
      "avg / total       0.82      0.36      0.39      1126\n",
      "\n"
     ]
    }
   ],
   "source": [
    "# calculate various performance measures\n",
    "acc_table = classification_report(y_test, y_pred_youden)\n",
    "\n",
    "# print the table\n",
    "print(acc_table)"
   ]
  },
  {
   "cell_type": "code",
   "execution_count": 691,
   "metadata": {
    "execution": {
     "iopub.execute_input": "2022-09-16T05:14:55.927313Z",
     "iopub.status.busy": "2022-09-16T05:14:55.926818Z",
     "iopub.status.idle": "2022-09-16T05:14:55.937848Z",
     "shell.execute_reply": "2022-09-16T05:14:55.936463Z",
     "shell.execute_reply.started": "2022-09-16T05:14:55.927277Z"
    }
   },
   "outputs": [
    {
     "name": "stdout",
     "output_type": "stream",
     "text": [
      "kappa value: 0.06491940207990177\n"
     ]
    }
   ],
   "source": [
    "# compute the kappa value\n",
    "kappa = cohen_kappa_score(y_test, y_pred_youden)\n",
    "\n",
    "# print the kappa value\n",
    "print('kappa value:',kappa)"
   ]
  },
  {
   "cell_type": "markdown",
   "metadata": {
    "id": "dv9a2ZjEwnhX"
   },
   "source": [
    "**Compute various performance metrics using classification report.**"
   ]
  },
  {
   "cell_type": "code",
   "execution_count": 692,
   "metadata": {},
   "outputs": [
    {
     "name": "stdout",
     "output_type": "stream",
     "text": [
      "             precision    recall  f1-score   support\n",
      "\n",
      "          0       0.94      0.26      0.40       951\n",
      "          1       0.18      0.91      0.31       175\n",
      "\n",
      "avg / total       0.82      0.36      0.39      1126\n",
      "\n"
     ]
    }
   ],
   "source": [
    "# calculate various performance measures\n",
    "acc_table = classification_report(y_test, y_pred_youden)\n",
    "\n",
    "# print the table\n",
    "print(acc_table)"
   ]
  },
  {
   "cell_type": "code",
   "execution_count": 693,
   "metadata": {},
   "outputs": [
    {
     "name": "stdout",
     "output_type": "stream",
     "text": [
      "kappa value: 0.06491940207990177\n"
     ]
    }
   ],
   "source": [
    "# compute the kappa value\n",
    "kappa = cohen_kappa_score(y_test, y_pred_youden)\n",
    "\n",
    "# print the kappa value\n",
    "print('kappa value:',kappa)"
   ]
  },
  {
   "cell_type": "code",
   "execution_count": null,
   "metadata": {},
   "outputs": [],
   "source": []
  },
  {
   "cell_type": "code",
   "execution_count": null,
   "metadata": {},
   "outputs": [],
   "source": []
  }
 ],
 "metadata": {
  "kernelspec": {
   "display_name": "Python 3 (ipykernel)",
   "language": "python",
   "name": "python3"
  },
  "language_info": {
   "codemirror_mode": {
    "name": "ipython",
    "version": 3
   },
   "file_extension": ".py",
   "mimetype": "text/x-python",
   "name": "python",
   "nbconvert_exporter": "python",
   "pygments_lexer": "ipython3",
   "version": "3.9.13"
  }
 },
 "nbformat": 4,
 "nbformat_minor": 4
}
